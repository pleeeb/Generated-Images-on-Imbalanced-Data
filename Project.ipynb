{
 "cells": [
  {
   "cell_type": "code",
   "execution_count": 1,
   "id": "0d4c28f6",
   "metadata": {},
   "outputs": [],
   "source": [
    "import numpy as np\n",
    "import pandas as pd\n",
    "import matplotlib as mpl\n",
    "import matplotlib.pyplot as plt\n",
    "import os\n",
    "import tensorflow as tf\n",
    "from tensorflow import keras\n",
    "from tensorflow.keras import layers\n",
    "from tensorflow.keras.preprocessing.image import ImageDataGenerator\n",
    "import PIL\n",
    "from PIL import Image\n",
    "from tensorflow.keras import applications\n",
    "from tensorflow.keras import optimizers"
   ]
  },
  {
   "cell_type": "markdown",
   "id": "553a7a6f",
   "metadata": {},
   "source": [
    "### Data contains 1200 images (600 normal, 600 pneumonia). 800 will be used for train, 200 for validation, 200 for test"
   ]
  },
  {
   "cell_type": "code",
   "execution_count": 2,
   "id": "e3a089d1",
   "metadata": {},
   "outputs": [],
   "source": [
    "train_dir = r'D:\\Diss\\Train'\n",
    "test_dir = r'D:\\Diss\\Test'\n",
    "validation_dir = r'D:\\Diss\\Validation'"
   ]
  },
  {
   "cell_type": "code",
   "execution_count": 3,
   "id": "a6b6dddf",
   "metadata": {},
   "outputs": [
    {
     "name": "stdout",
     "output_type": "stream",
     "text": [
      "Found 800 images belonging to 2 classes.\n",
      "Found 200 images belonging to 2 classes.\n"
     ]
    }
   ],
   "source": [
    "train_datagen = ImageDataGenerator(rescale=1./255)\n",
    "test_datagen = ImageDataGenerator(rescale=1./255)\n",
    "\n",
    "train_generator = train_datagen.flow_from_directory(train_dir,\n",
    "                                                   target_size=(256,256),\n",
    "                                                   batch_size=20,\n",
    "                                                   class_mode=\"binary\")\n",
    "\n",
    "validation_generator = test_datagen.flow_from_directory(validation_dir,\n",
    "                                                       target_size=(256,256),\n",
    "                                                       batch_size=20,\n",
    "                                                       class_mode=\"binary\")\n",
    "\n",
    "\n"
   ]
  },
  {
   "cell_type": "code",
   "execution_count": 5,
   "id": "f2602f3a",
   "metadata": {},
   "outputs": [],
   "source": [
    "def showImage(image):\n",
    "    image = image*255\n",
    "    image = np.array(image, dtype=np.uint8)\n",
    "    print(image)\n",
    "    if np.ndim(image)>3:\n",
    "        image = image[0]\n",
    "    image = PIL.Image.fromarray(image)\n",
    "    t.show()"
   ]
  },
  {
   "cell_type": "code",
   "execution_count": 6,
   "id": "8dbb1211",
   "metadata": {},
   "outputs": [],
   "source": [
    "def generator():\n",
    "    model = tf.keras.Sequential()\n",
    "    model.add(layers.Dense(8*8*256, use_bias=False, input_shape=(100,)))\n",
    "    model.add(layers.BatchNormalization())\n",
    "    model.add(layers.LeakyReLU())\n",
    "    \n",
    "    model.add(layers.Reshape((8,8,256)))\n",
    "    \n",
    "    model.add(layers.Conv2DTranspose(256,(5,5),strides=(2,2),padding=\"same\",\n",
    "                                    use_bias=False))\n",
    "    model.add(layers.BatchNormalization())\n",
    "    model.add(layers.LeakyReLU())\n",
    "    \n",
    "    model.add(layers.Conv2DTranspose(128,(5,5),strides=(2,2),padding=\"same\",\n",
    "                                    use_bias=False))\n",
    "    model.add(layers.BatchNormalization())\n",
    "    model.add(layers.LeakyReLU())\n",
    "    \n",
    "    model.add(layers.Conv2DTranspose(64,(5,5),strides=(2,2),padding=\"same\",\n",
    "                                    use_bias=False))\n",
    "    model.add(layers.BatchNormalization())\n",
    "    model.add(layers.LeakyReLU())\n",
    "    \n",
    "    model.add(layers.Conv2DTranspose(32,(5,5),strides=(2,2),padding=\"same\",\n",
    "                                    use_bias=False))\n",
    "    model.add(layers.BatchNormalization())\n",
    "    model.add(layers.LeakyReLU())\n",
    "    \n",
    "    model.add(layers.Conv2DTranspose(1,(5,5),strides=(2,2),padding=\"same\",\n",
    "                                    use_bias=False, activation=\"tanh\"))\n",
    "    return model"
   ]
  },
  {
   "cell_type": "code",
   "execution_count": 7,
   "id": "08543c22",
   "metadata": {},
   "outputs": [
    {
     "name": "stdout",
     "output_type": "stream",
     "text": [
      "Model: \"sequential\"\n",
      "_________________________________________________________________\n",
      "Layer (type)                 Output Shape              Param #   \n",
      "=================================================================\n",
      "dense (Dense)                (None, 16384)             1638400   \n",
      "_________________________________________________________________\n",
      "batch_normalization (BatchNo (None, 16384)             65536     \n",
      "_________________________________________________________________\n",
      "leaky_re_lu (LeakyReLU)      (None, 16384)             0         \n",
      "_________________________________________________________________\n",
      "reshape (Reshape)            (None, 8, 8, 256)         0         \n",
      "_________________________________________________________________\n",
      "conv2d_transpose (Conv2DTran (None, 16, 16, 256)       1638400   \n",
      "_________________________________________________________________\n",
      "batch_normalization_1 (Batch (None, 16, 16, 256)       1024      \n",
      "_________________________________________________________________\n",
      "leaky_re_lu_1 (LeakyReLU)    (None, 16, 16, 256)       0         \n",
      "_________________________________________________________________\n",
      "conv2d_transpose_1 (Conv2DTr (None, 32, 32, 128)       819200    \n",
      "_________________________________________________________________\n",
      "batch_normalization_2 (Batch (None, 32, 32, 128)       512       \n",
      "_________________________________________________________________\n",
      "leaky_re_lu_2 (LeakyReLU)    (None, 32, 32, 128)       0         \n",
      "_________________________________________________________________\n",
      "conv2d_transpose_2 (Conv2DTr (None, 64, 64, 64)        204800    \n",
      "_________________________________________________________________\n",
      "batch_normalization_3 (Batch (None, 64, 64, 64)        256       \n",
      "_________________________________________________________________\n",
      "leaky_re_lu_3 (LeakyReLU)    (None, 64, 64, 64)        0         \n",
      "_________________________________________________________________\n",
      "conv2d_transpose_3 (Conv2DTr (None, 128, 128, 32)      51200     \n",
      "_________________________________________________________________\n",
      "batch_normalization_4 (Batch (None, 128, 128, 32)      128       \n",
      "_________________________________________________________________\n",
      "leaky_re_lu_4 (LeakyReLU)    (None, 128, 128, 32)      0         \n",
      "_________________________________________________________________\n",
      "conv2d_transpose_4 (Conv2DTr (None, 256, 256, 1)       800       \n",
      "=================================================================\n",
      "Total params: 4,420,256\n",
      "Trainable params: 4,386,528\n",
      "Non-trainable params: 33,728\n",
      "_________________________________________________________________\n"
     ]
    }
   ],
   "source": [
    "g_test = generator()\n",
    "g_test.summary()"
   ]
  },
  {
   "cell_type": "markdown",
   "id": "605cdf9c",
   "metadata": {},
   "source": [
    "### Check if model has been made"
   ]
  },
  {
   "cell_type": "code",
   "execution_count": 8,
   "id": "58664428",
   "metadata": {},
   "outputs": [
    {
     "ename": "OSError",
     "evalue": "SavedModel file does not exist at: D:\\Diss\\Weights\\VGG\\Balanced\u000bgg\\{saved_model.pbtxt|saved_model.pb}",
     "output_type": "error",
     "traceback": [
      "\u001b[1;31m---------------------------------------------------------------------------\u001b[0m",
      "\u001b[1;31mOSError\u001b[0m                                   Traceback (most recent call last)",
      "\u001b[1;32m<ipython-input-8-c0598eb59cc3>\u001b[0m in \u001b[0;36m<module>\u001b[1;34m\u001b[0m\n\u001b[1;32m----> 1\u001b[1;33m \u001b[0mvgg\u001b[0m \u001b[1;33m=\u001b[0m \u001b[0mtf\u001b[0m\u001b[1;33m.\u001b[0m\u001b[0mkeras\u001b[0m\u001b[1;33m.\u001b[0m\u001b[0mmodels\u001b[0m\u001b[1;33m.\u001b[0m\u001b[0mload_model\u001b[0m\u001b[1;33m(\u001b[0m\u001b[1;34m\"D:\\Diss\\Weights\\VGG\\Balanced\\vgg\"\u001b[0m\u001b[1;33m)\u001b[0m\u001b[1;33m\u001b[0m\u001b[1;33m\u001b[0m\u001b[0m\n\u001b[0m",
      "\u001b[1;32m~\\AppData\\Roaming\\Python\\Python38\\site-packages\\keras\\saving\\save.py\u001b[0m in \u001b[0;36mload_model\u001b[1;34m(filepath, custom_objects, compile, options)\u001b[0m\n\u001b[0;32m    203\u001b[0m         \u001b[0mfilepath\u001b[0m \u001b[1;33m=\u001b[0m \u001b[0mpath_to_string\u001b[0m\u001b[1;33m(\u001b[0m\u001b[0mfilepath\u001b[0m\u001b[1;33m)\u001b[0m\u001b[1;33m\u001b[0m\u001b[1;33m\u001b[0m\u001b[0m\n\u001b[0;32m    204\u001b[0m         \u001b[1;32mif\u001b[0m \u001b[0misinstance\u001b[0m\u001b[1;33m(\u001b[0m\u001b[0mfilepath\u001b[0m\u001b[1;33m,\u001b[0m \u001b[0mstr\u001b[0m\u001b[1;33m)\u001b[0m\u001b[1;33m:\u001b[0m\u001b[1;33m\u001b[0m\u001b[1;33m\u001b[0m\u001b[0m\n\u001b[1;32m--> 205\u001b[1;33m           \u001b[1;32mreturn\u001b[0m \u001b[0msaved_model_load\u001b[0m\u001b[1;33m.\u001b[0m\u001b[0mload\u001b[0m\u001b[1;33m(\u001b[0m\u001b[0mfilepath\u001b[0m\u001b[1;33m,\u001b[0m \u001b[0mcompile\u001b[0m\u001b[1;33m,\u001b[0m \u001b[0moptions\u001b[0m\u001b[1;33m)\u001b[0m\u001b[1;33m\u001b[0m\u001b[1;33m\u001b[0m\u001b[0m\n\u001b[0m\u001b[0;32m    206\u001b[0m \u001b[1;33m\u001b[0m\u001b[0m\n\u001b[0;32m    207\u001b[0m   raise IOError(\n",
      "\u001b[1;32m~\\AppData\\Roaming\\Python\\Python38\\site-packages\\keras\\saving\\saved_model\\load.py\u001b[0m in \u001b[0;36mload\u001b[1;34m(path, compile, options)\u001b[0m\n\u001b[0;32m    106\u001b[0m   \u001b[1;31m# Look for metadata file or parse the SavedModel\u001b[0m\u001b[1;33m\u001b[0m\u001b[1;33m\u001b[0m\u001b[1;33m\u001b[0m\u001b[0m\n\u001b[0;32m    107\u001b[0m   \u001b[0mmetadata\u001b[0m \u001b[1;33m=\u001b[0m \u001b[0msaved_metadata_pb2\u001b[0m\u001b[1;33m.\u001b[0m\u001b[0mSavedMetadata\u001b[0m\u001b[1;33m(\u001b[0m\u001b[1;33m)\u001b[0m\u001b[1;33m\u001b[0m\u001b[1;33m\u001b[0m\u001b[0m\n\u001b[1;32m--> 108\u001b[1;33m   \u001b[0mmeta_graph_def\u001b[0m \u001b[1;33m=\u001b[0m \u001b[0mtf\u001b[0m\u001b[1;33m.\u001b[0m\u001b[0m__internal__\u001b[0m\u001b[1;33m.\u001b[0m\u001b[0msaved_model\u001b[0m\u001b[1;33m.\u001b[0m\u001b[0mparse_saved_model\u001b[0m\u001b[1;33m(\u001b[0m\u001b[0mpath\u001b[0m\u001b[1;33m)\u001b[0m\u001b[1;33m.\u001b[0m\u001b[0mmeta_graphs\u001b[0m\u001b[1;33m[\u001b[0m\u001b[1;36m0\u001b[0m\u001b[1;33m]\u001b[0m\u001b[1;33m\u001b[0m\u001b[1;33m\u001b[0m\u001b[0m\n\u001b[0m\u001b[0;32m    109\u001b[0m   \u001b[0mobject_graph_def\u001b[0m \u001b[1;33m=\u001b[0m \u001b[0mmeta_graph_def\u001b[0m\u001b[1;33m.\u001b[0m\u001b[0mobject_graph_def\u001b[0m\u001b[1;33m\u001b[0m\u001b[1;33m\u001b[0m\u001b[0m\n\u001b[0;32m    110\u001b[0m   \u001b[0mpath_to_metadata_pb\u001b[0m \u001b[1;33m=\u001b[0m \u001b[0mos\u001b[0m\u001b[1;33m.\u001b[0m\u001b[0mpath\u001b[0m\u001b[1;33m.\u001b[0m\u001b[0mjoin\u001b[0m\u001b[1;33m(\u001b[0m\u001b[0mpath\u001b[0m\u001b[1;33m,\u001b[0m \u001b[0mconstants\u001b[0m\u001b[1;33m.\u001b[0m\u001b[0mSAVED_METADATA_PATH\u001b[0m\u001b[1;33m)\u001b[0m\u001b[1;33m\u001b[0m\u001b[1;33m\u001b[0m\u001b[0m\n",
      "\u001b[1;32m~\\AppData\\Roaming\\Python\\Python38\\site-packages\\tensorflow\\python\\saved_model\\loader_impl.py\u001b[0m in \u001b[0;36mparse_saved_model\u001b[1;34m(export_dir)\u001b[0m\n\u001b[0;32m    116\u001b[0m       \u001b[1;32mraise\u001b[0m \u001b[0mIOError\u001b[0m\u001b[1;33m(\u001b[0m\u001b[1;34m\"Cannot parse file %s: %s.\"\u001b[0m \u001b[1;33m%\u001b[0m \u001b[1;33m(\u001b[0m\u001b[0mpath_to_pbtxt\u001b[0m\u001b[1;33m,\u001b[0m \u001b[0mstr\u001b[0m\u001b[1;33m(\u001b[0m\u001b[0me\u001b[0m\u001b[1;33m)\u001b[0m\u001b[1;33m)\u001b[0m\u001b[1;33m)\u001b[0m\u001b[1;33m\u001b[0m\u001b[1;33m\u001b[0m\u001b[0m\n\u001b[0;32m    117\u001b[0m   \u001b[1;32melse\u001b[0m\u001b[1;33m:\u001b[0m\u001b[1;33m\u001b[0m\u001b[1;33m\u001b[0m\u001b[0m\n\u001b[1;32m--> 118\u001b[1;33m     raise IOError(\n\u001b[0m\u001b[0;32m    119\u001b[0m         \u001b[1;34m\"SavedModel file does not exist at: %s%s{%s|%s}\"\u001b[0m \u001b[1;33m%\u001b[0m\u001b[1;33m\u001b[0m\u001b[1;33m\u001b[0m\u001b[0m\n\u001b[0;32m    120\u001b[0m         (export_dir, os.path.sep, constants.SAVED_MODEL_FILENAME_PBTXT,\n",
      "\u001b[1;31mOSError\u001b[0m: SavedModel file does not exist at: D:\\Diss\\Weights\\VGG\\Balanced\u000bgg\\{saved_model.pbtxt|saved_model.pb}"
     ]
    }
   ],
   "source": [
    "vgg = tf.keras.models.load_model(\"D:\\Diss\\Weights\\VGG\\Balanced\\vgg\")"
   ]
  },
  {
   "cell_type": "markdown",
   "id": "99299af8",
   "metadata": {},
   "source": [
    "### Make if not"
   ]
  },
  {
   "cell_type": "code",
   "execution_count": 9,
   "id": "ad34c1ac",
   "metadata": {},
   "outputs": [
    {
     "name": "stdout",
     "output_type": "stream",
     "text": [
      "Model: \"sequential_1\"\n",
      "_________________________________________________________________\n",
      "Layer (type)                 Output Shape              Param #   \n",
      "=================================================================\n",
      "vgg19 (Functional)           (None, 8, 8, 512)         20024384  \n",
      "_________________________________________________________________\n",
      "flatten (Flatten)            (None, 32768)             0         \n",
      "_________________________________________________________________\n",
      "dense_1 (Dense)              (None, 512)               16777728  \n",
      "_________________________________________________________________\n",
      "dense_2 (Dense)              (None, 1)                 513       \n",
      "=================================================================\n",
      "Total params: 36,802,625\n",
      "Trainable params: 36,802,625\n",
      "Non-trainable params: 0\n",
      "_________________________________________________________________\n"
     ]
    }
   ],
   "source": [
    "model = tf.keras.applications.VGG19(input_shape = (256,256,3),include_top=False,weights=None)\n",
    "vgg = tf.keras.models.Sequential()\n",
    "vgg.add(model)\n",
    "vgg.add(layers.Flatten())\n",
    "vgg.add(layers.Dense(512,activation=\"relu\"))\n",
    "vgg.add(layers.Dense(1,activation=\"sigmoid\"))\n",
    "vgg.summary()"
   ]
  },
  {
   "cell_type": "code",
   "execution_count": 10,
   "id": "614199d3",
   "metadata": {},
   "outputs": [],
   "source": [
    "vgg.compile(loss=\"binary_crossentropy\",\n",
    "             optimizer=optimizers.Adam(learning_rate=2e-5),\n",
    "             metrics=keras.metrics.BinaryAccuracy())"
   ]
  },
  {
   "cell_type": "code",
   "execution_count": 11,
   "id": "5ca94ac6",
   "metadata": {},
   "outputs": [
    {
     "name": "stdout",
     "output_type": "stream",
     "text": [
      "Epoch 1/30\n",
      "40/40 [==============================] - 41s 755ms/step - loss: 0.6940 - binary_accuracy: 0.5863 - val_loss: 0.6927 - val_binary_accuracy: 0.5000\n",
      "Epoch 2/30\n",
      "40/40 [==============================] - 15s 368ms/step - loss: 0.6897 - binary_accuracy: 0.5387 - val_loss: 0.6720 - val_binary_accuracy: 0.5450\n",
      "Epoch 3/30\n",
      "40/40 [==============================] - 15s 359ms/step - loss: 0.4182 - binary_accuracy: 0.8338 - val_loss: 0.2802 - val_binary_accuracy: 0.8850\n",
      "Epoch 4/30\n",
      "40/40 [==============================] - 15s 359ms/step - loss: 0.1945 - binary_accuracy: 0.9212 - val_loss: 0.2515 - val_binary_accuracy: 0.8850\n",
      "Epoch 5/30\n",
      "40/40 [==============================] - 15s 359ms/step - loss: 0.1407 - binary_accuracy: 0.9488 - val_loss: 0.2045 - val_binary_accuracy: 0.9350\n",
      "Epoch 6/30\n",
      "40/40 [==============================] - 15s 365ms/step - loss: 0.1852 - binary_accuracy: 0.9250 - val_loss: 0.2201 - val_binary_accuracy: 0.9200\n",
      "Epoch 7/30\n",
      "40/40 [==============================] - 15s 370ms/step - loss: 0.0998 - binary_accuracy: 0.9613 - val_loss: 0.1635 - val_binary_accuracy: 0.9200\n",
      "Epoch 8/30\n",
      "40/40 [==============================] - 15s 357ms/step - loss: 0.0744 - binary_accuracy: 0.9737 - val_loss: 0.1917 - val_binary_accuracy: 0.9350\n",
      "Epoch 9/30\n",
      "40/40 [==============================] - 15s 367ms/step - loss: 0.0733 - binary_accuracy: 0.9650 - val_loss: 0.1266 - val_binary_accuracy: 0.9450\n",
      "Epoch 10/30\n",
      "40/40 [==============================] - 15s 369ms/step - loss: 0.0599 - binary_accuracy: 0.9800 - val_loss: 0.1740 - val_binary_accuracy: 0.9200\n",
      "Epoch 11/30\n",
      "40/40 [==============================] - 15s 372ms/step - loss: 0.0679 - binary_accuracy: 0.9812 - val_loss: 0.1247 - val_binary_accuracy: 0.9450\n",
      "Epoch 12/30\n",
      "40/40 [==============================] - 15s 368ms/step - loss: 0.0577 - binary_accuracy: 0.9775 - val_loss: 0.1380 - val_binary_accuracy: 0.9350\n",
      "Epoch 13/30\n",
      "40/40 [==============================] - 15s 371ms/step - loss: 0.0429 - binary_accuracy: 0.9825 - val_loss: 0.1525 - val_binary_accuracy: 0.9500\n",
      "Epoch 14/30\n",
      "40/40 [==============================] - 15s 373ms/step - loss: 0.0827 - binary_accuracy: 0.9700 - val_loss: 0.1681 - val_binary_accuracy: 0.9300\n",
      "Epoch 15/30\n",
      "40/40 [==============================] - 15s 370ms/step - loss: 0.0790 - binary_accuracy: 0.9737 - val_loss: 0.1427 - val_binary_accuracy: 0.9350\n",
      "Epoch 16/30\n",
      "40/40 [==============================] - 15s 370ms/step - loss: 0.0443 - binary_accuracy: 0.9862 - val_loss: 0.1261 - val_binary_accuracy: 0.9550\n",
      "Epoch 17/30\n",
      "40/40 [==============================] - 15s 369ms/step - loss: 0.0271 - binary_accuracy: 0.9912 - val_loss: 0.1480 - val_binary_accuracy: 0.9500\n",
      "Epoch 18/30\n",
      "40/40 [==============================] - 15s 369ms/step - loss: 0.0295 - binary_accuracy: 0.9887 - val_loss: 0.4266 - val_binary_accuracy: 0.8950\n",
      "Epoch 19/30\n",
      "40/40 [==============================] - 15s 378ms/step - loss: 0.0452 - binary_accuracy: 0.9862 - val_loss: 0.1287 - val_binary_accuracy: 0.9450\n",
      "Epoch 20/30\n",
      "40/40 [==============================] - 15s 375ms/step - loss: 0.0189 - binary_accuracy: 0.9950 - val_loss: 0.1683 - val_binary_accuracy: 0.9450\n",
      "Epoch 21/30\n",
      "40/40 [==============================] - 15s 377ms/step - loss: 0.0585 - binary_accuracy: 0.9787 - val_loss: 0.1325 - val_binary_accuracy: 0.9400\n",
      "Epoch 22/30\n",
      "40/40 [==============================] - 15s 372ms/step - loss: 0.0387 - binary_accuracy: 0.9812 - val_loss: 0.1501 - val_binary_accuracy: 0.9550\n",
      "Epoch 23/30\n",
      "40/40 [==============================] - 15s 369ms/step - loss: 0.0137 - binary_accuracy: 0.9975 - val_loss: 0.1631 - val_binary_accuracy: 0.9500\n",
      "Epoch 24/30\n",
      "40/40 [==============================] - 15s 371ms/step - loss: 0.0310 - binary_accuracy: 0.9837 - val_loss: 0.2126 - val_binary_accuracy: 0.9300\n",
      "Epoch 25/30\n",
      "40/40 [==============================] - 15s 376ms/step - loss: 0.0133 - binary_accuracy: 0.9950 - val_loss: 0.1845 - val_binary_accuracy: 0.9450\n",
      "Epoch 26/30\n",
      "40/40 [==============================] - 15s 375ms/step - loss: 0.0261 - binary_accuracy: 0.9887 - val_loss: 0.1877 - val_binary_accuracy: 0.9450\n"
     ]
    }
   ],
   "source": [
    "early_stop = tf.keras.callbacks.EarlyStopping(monitor=\"val_loss\", patience=15, restore_best_weights=True)\n",
    "history = vgg.fit(train_generator,\n",
    "                   steps_per_epoch=40,\n",
    "                   epochs=30,\n",
    "                   validation_data=validation_generator,\n",
    "                   validation_steps=10,\n",
    "                    callbacks=[early_stop])"
   ]
  },
  {
   "cell_type": "code",
   "execution_count": 12,
   "id": "5cd80876",
   "metadata": {},
   "outputs": [
    {
     "data": {
      "image/png": "[encoded data removed]",
      "text/plain": [
       "<Figure size 576x360 with 1 Axes>"
      ]
     },
     "metadata": {
      "needs_background": "light"
     },
     "output_type": "display_data"
    }
   ],
   "source": [
    "pd.DataFrame(history.history).plot(figsize=(8,5))\n",
    "plt.grid(True)\n",
    "plt.gca().set_ylim(0,1)\n",
    "plt.show()"
   ]
  },
  {
   "cell_type": "code",
   "execution_count": 13,
   "id": "1e31e386",
   "metadata": {},
   "outputs": [
    {
     "name": "stdout",
     "output_type": "stream",
     "text": [
      "Found 200 images belonging to 2 classes.\n"
     ]
    }
   ],
   "source": [
    "test_generator = test_datagen.flow_from_directory(test_dir,\n",
    "                                                  batch_size=1,\n",
    "                                                 target_size=(256,256),\n",
    "                                                 class_mode=\"binary\")"
   ]
  },
  {
   "cell_type": "code",
   "execution_count": 14,
   "id": "02fcfb9f",
   "metadata": {},
   "outputs": [],
   "source": [
    "def evaluate(model):\n",
    "    test_loss, test_acc = model.evaluate(test_generator)\n",
    "    train_loss, train_acc = model.evaluate(train_generator)\n",
    "    \n",
    "    print(\"Test loss: {0}, Test acc: {1} \\nTrain loss: {2}, Train acc: {3}\".format(test_loss,test_acc,\n",
    "                                                                                   train_loss, train_acc))"
   ]
  },
  {
   "cell_type": "code",
   "execution_count": 15,
   "id": "cf01cdd4",
   "metadata": {},
   "outputs": [
    {
     "name": "stdout",
     "output_type": "stream",
     "text": [
      "200/200 [==============================] - 7s 27ms/step - loss: 0.3820 - binary_accuracy: 0.8750\n",
      "40/40 [==============================] - 12s 270ms/step - loss: 0.0472 - binary_accuracy: 0.98758s - loss\n",
      "Test loss: 0.3819844722747803, Test acc: 0.875 \n",
      "Train loss: 0.047201741486787796, Train acc: 0.987500011920929\n"
     ]
    }
   ],
   "source": [
    "evaluate(vgg)"
   ]
  },
  {
   "cell_type": "code",
   "execution_count": 17,
   "id": "0a90ab57",
   "metadata": {},
   "outputs": [
    {
     "name": "stdout",
     "output_type": "stream",
     "text": [
      "INFO:tensorflow:Assets written to: D:\\Diss\\Weights\\VGG\\Balanced\\vgg\\assets\n"
     ]
    }
   ],
   "source": [
    "vgg.save(r'D:\\Diss\\Weights\\VGG\\Balanced\\vgg')"
   ]
  },
  {
   "cell_type": "markdown",
   "id": "29ca1e0c",
   "metadata": {},
   "source": [
    "### Check for model"
   ]
  },
  {
   "cell_type": "code",
   "execution_count": null,
   "id": "2271eaa7",
   "metadata": {},
   "outputs": [],
   "source": [
    "res = tf.keras.models.load_model(r'D:\\Diss\\Weights\\RES\\Balanced\\res')"
   ]
  },
  {
   "cell_type": "code",
   "execution_count": 18,
   "id": "fd3f5016",
   "metadata": {},
   "outputs": [
    {
     "name": "stdout",
     "output_type": "stream",
     "text": [
      "Model: \"sequential_2\"\n",
      "_________________________________________________________________\n",
      "Layer (type)                 Output Shape              Param #   \n",
      "=================================================================\n",
      "resnet50v2 (Functional)      (None, 8, 8, 2048)        23564800  \n",
      "_________________________________________________________________\n",
      "flatten_1 (Flatten)          (None, 131072)            0         \n",
      "_________________________________________________________________\n",
      "dense_3 (Dense)              (None, 512)               67109376  \n",
      "_________________________________________________________________\n",
      "dense_4 (Dense)              (None, 1)                 513       \n",
      "=================================================================\n",
      "Total params: 90,674,689\n",
      "Trainable params: 90,629,249\n",
      "Non-trainable params: 45,440\n",
      "_________________________________________________________________\n"
     ]
    }
   ],
   "source": [
    "model = tf.keras.applications.ResNet50V2(input_shape = (256,256,3),include_top=False,weights=None)\n",
    "res = tf.keras.models.Sequential()\n",
    "res.add(model)\n",
    "res.add(layers.Flatten())\n",
    "res.add(layers.Dense(512,activation=\"relu\"))\n",
    "res.add(layers.Dense(1,activation=\"sigmoid\"))\n",
    "res.summary()"
   ]
  },
  {
   "cell_type": "code",
   "execution_count": 19,
   "id": "5b03e979",
   "metadata": {},
   "outputs": [],
   "source": [
    "res.compile(loss=\"binary_crossentropy\",\n",
    "             optimizer=optimizers.Adam(learning_rate=2e-5),\n",
    "             metrics=keras.metrics.BinaryAccuracy())"
   ]
  },
  {
   "cell_type": "code",
   "execution_count": 23,
   "id": "45aef163",
   "metadata": {},
   "outputs": [
    {
     "name": "stdout",
     "output_type": "stream",
     "text": [
      "Epoch 1/30\n",
      "40/40 [==============================] - 14s 342ms/step - loss: 0.0014 - binary_accuracy: 1.0000 - val_loss: 3.9487 - val_binary_accuracy: 0.5000\n",
      "Epoch 2/30\n",
      "40/40 [==============================] - 14s 352ms/step - loss: 5.0889e-04 - binary_accuracy: 1.0000 - val_loss: 3.8798 - val_binary_accuracy: 0.5000\n",
      "Epoch 3/30\n",
      "40/40 [==============================] - 14s 341ms/step - loss: 3.7013e-04 - binary_accuracy: 1.0000 - val_loss: 3.6683 - val_binary_accuracy: 0.5000\n",
      "Epoch 4/30\n",
      "40/40 [==============================] - 14s 348ms/step - loss: 4.5071e-04 - binary_accuracy: 1.0000 - val_loss: 3.5897 - val_binary_accuracy: 0.5000\n",
      "Epoch 5/30\n",
      "40/40 [==============================] - 14s 340ms/step - loss: 2.9457e-04 - binary_accuracy: 1.0000 - val_loss: 3.3717 - val_binary_accuracy: 0.5000\n",
      "Epoch 6/30\n",
      "40/40 [==============================] - 14s 345ms/step - loss: 2.5474e-04 - binary_accuracy: 1.0000 - val_loss: 2.9999 - val_binary_accuracy: 0.5000\n",
      "Epoch 7/30\n",
      "40/40 [==============================] - 14s 340ms/step - loss: 5.4994e-04 - binary_accuracy: 1.0000 - val_loss: 2.8553 - val_binary_accuracy: 0.5000\n",
      "Epoch 8/30\n",
      "40/40 [==============================] - 14s 350ms/step - loss: 3.2410e-04 - binary_accuracy: 1.0000 - val_loss: 2.3154 - val_binary_accuracy: 0.5000\n",
      "Epoch 9/30\n",
      "40/40 [==============================] - 14s 337ms/step - loss: 2.4654e-04 - binary_accuracy: 1.0000 - val_loss: 1.6325 - val_binary_accuracy: 0.5200\n",
      "Epoch 10/30\n",
      "40/40 [==============================] - 14s 347ms/step - loss: 3.7994e-04 - binary_accuracy: 1.0000 - val_loss: 0.9005 - val_binary_accuracy: 0.6800\n",
      "Epoch 11/30\n",
      "40/40 [==============================] - 14s 342ms/step - loss: 2.1376e-04 - binary_accuracy: 1.0000 - val_loss: 0.6947 - val_binary_accuracy: 0.7550\n",
      "Epoch 12/30\n",
      "40/40 [==============================] - 14s 352ms/step - loss: 2.1863e-04 - binary_accuracy: 1.0000 - val_loss: 0.4428 - val_binary_accuracy: 0.8400\n",
      "Epoch 13/30\n",
      "40/40 [==============================] - 14s 344ms/step - loss: 1.7235e-04 - binary_accuracy: 1.0000 - val_loss: 0.2982 - val_binary_accuracy: 0.8850\n",
      "Epoch 14/30\n",
      "40/40 [==============================] - 14s 347ms/step - loss: 1.8204e-04 - binary_accuracy: 1.0000 - val_loss: 0.2365 - val_binary_accuracy: 0.9050\n",
      "Epoch 15/30\n",
      "40/40 [==============================] - 14s 339ms/step - loss: 1.5352e-04 - binary_accuracy: 1.0000 - val_loss: 0.2244 - val_binary_accuracy: 0.9200\n",
      "Epoch 16/30\n",
      "40/40 [==============================] - 14s 352ms/step - loss: 1.3999e-04 - binary_accuracy: 1.0000 - val_loss: 0.2240 - val_binary_accuracy: 0.9150\n",
      "Epoch 17/30\n",
      "40/40 [==============================] - 14s 344ms/step - loss: 1.3071e-04 - binary_accuracy: 1.0000 - val_loss: 0.2333 - val_binary_accuracy: 0.9250\n",
      "Epoch 18/30\n",
      "40/40 [==============================] - 14s 347ms/step - loss: 1.2374e-04 - binary_accuracy: 1.0000 - val_loss: 0.2433 - val_binary_accuracy: 0.9200\n",
      "Epoch 19/30\n",
      "40/40 [==============================] - 14s 342ms/step - loss: 2.1848e-04 - binary_accuracy: 1.0000 - val_loss: 0.2412 - val_binary_accuracy: 0.9200\n",
      "Epoch 20/30\n",
      "40/40 [==============================] - 14s 354ms/step - loss: 1.4948e-04 - binary_accuracy: 1.0000 - val_loss: 0.2511 - val_binary_accuracy: 0.9200\n",
      "Epoch 21/30\n",
      "40/40 [==============================] - 14s 342ms/step - loss: 1.2547e-04 - binary_accuracy: 1.0000 - val_loss: 0.2467 - val_binary_accuracy: 0.9200\n",
      "Epoch 22/30\n",
      "40/40 [==============================] - 14s 349ms/step - loss: 1.0932e-04 - binary_accuracy: 1.0000 - val_loss: 0.2493 - val_binary_accuracy: 0.9200\n",
      "Epoch 23/30\n",
      "40/40 [==============================] - 14s 340ms/step - loss: 1.0160e-04 - binary_accuracy: 1.0000 - val_loss: 0.2448 - val_binary_accuracy: 0.9200\n",
      "Epoch 24/30\n",
      "40/40 [==============================] - 14s 354ms/step - loss: 1.2187e-04 - binary_accuracy: 1.0000 - val_loss: 0.2387 - val_binary_accuracy: 0.9200\n",
      "Epoch 25/30\n",
      "40/40 [==============================] - 14s 343ms/step - loss: 1.4576e-04 - binary_accuracy: 1.0000 - val_loss: 0.2568 - val_binary_accuracy: 0.9150\n",
      "Epoch 26/30\n",
      "40/40 [==============================] - 14s 348ms/step - loss: 1.2173e-04 - binary_accuracy: 1.0000 - val_loss: 0.2534 - val_binary_accuracy: 0.9200\n",
      "Epoch 27/30\n",
      "40/40 [==============================] - 14s 342ms/step - loss: 7.7324e-05 - binary_accuracy: 1.0000 - val_loss: 0.2532 - val_binary_accuracy: 0.9200\n",
      "Epoch 28/30\n",
      "40/40 [==============================] - 14s 353ms/step - loss: 6.4392e-05 - binary_accuracy: 1.0000 - val_loss: 0.2547 - val_binary_accuracy: 0.9200\n",
      "Epoch 29/30\n",
      "40/40 [==============================] - 14s 340ms/step - loss: 1.0229e-04 - binary_accuracy: 1.0000 - val_loss: 0.2624 - val_binary_accuracy: 0.9150\n",
      "Epoch 30/30\n",
      "40/40 [==============================] - 14s 350ms/step - loss: 8.1566e-05 - binary_accuracy: 1.0000 - val_loss: 0.2580 - val_binary_accuracy: 0.9200\n"
     ]
    }
   ],
   "source": [
    "res_early_stop = tf.keras.callbacks.EarlyStopping(monitor=\"val_loss\", patience=15, restore_best_weights=False)\n",
    "historyres = res.fit(train_generator,\n",
    "                   steps_per_epoch=40,\n",
    "                   epochs=30,\n",
    "                   validation_data=validation_generator,\n",
    "                   validation_steps=10,\n",
    "                    callbacks=[res_early_stop])"
   ]
  },
  {
   "cell_type": "code",
   "execution_count": 24,
   "id": "e26b6805",
   "metadata": {
    "scrolled": true
   },
   "outputs": [
    {
     "data": {
      "image/png": "[encoded data removed]",
      "text/plain": [
       "<Figure size 576x360 with 1 Axes>"
      ]
     },
     "metadata": {
      "needs_background": "light"
     },
     "output_type": "display_data"
    }
   ],
   "source": [
    "pd.DataFrame(historyres.history).plot(figsize=(8,5))\n",
    "plt.grid(True)\n",
    "plt.gca().set_ylim(0,1)\n",
    "plt.show()"
   ]
  },
  {
   "cell_type": "code",
   "execution_count": 25,
   "id": "2e3c5ee9",
   "metadata": {},
   "outputs": [
    {
     "name": "stdout",
     "output_type": "stream",
     "text": [
      "200/200 [==============================] - 5s 18ms/step - loss: 0.6086 - binary_accuracy: 0.8300\n",
      "40/40 [==============================] - 11s 257ms/step - loss: 2.9137e-05 - binary_accuracy: 1.0000\n",
      "Test loss: 0.608567476272583, Test acc: 0.8299999833106995 \n",
      "Train loss: 2.9137136152712628e-05, Train acc: 1.0\n"
     ]
    }
   ],
   "source": [
    "evaluate(res)"
   ]
  },
  {
   "cell_type": "code",
   "execution_count": 26,
   "id": "629ddf46",
   "metadata": {
    "scrolled": true
   },
   "outputs": [
    {
     "name": "stdout",
     "output_type": "stream",
     "text": [
      "INFO:tensorflow:Assets written to: D:\\Diss\\Weights\\RES\\Balanced\\res\\assets\n"
     ]
    },
    {
     "name": "stderr",
     "output_type": "stream",
     "text": [
      "C:\\Users\\Pete\\AppData\\Roaming\\Python\\Python38\\site-packages\\keras\\utils\\generic_utils.py:494: CustomMaskWarning: Custom mask layers require a config and must override get_config. When loading, the custom mask layer must be passed to the custom_objects argument.\n",
      "  warnings.warn('Custom mask layers require a config and must override '\n"
     ]
    }
   ],
   "source": [
    "res.save(r'D:\\Diss\\Weights\\RES\\Balanced\\res')"
   ]
  },
  {
   "cell_type": "code",
   "execution_count": null,
   "id": "a08e3fff",
   "metadata": {},
   "outputs": [],
   "source": [
    "Inc = tf.keras.models.load_model(r'D:\\Diss\\Weights\\INC\\Balanced\\inc')"
   ]
  },
  {
   "cell_type": "code",
   "execution_count": 27,
   "id": "d5923b39",
   "metadata": {},
   "outputs": [
    {
     "name": "stdout",
     "output_type": "stream",
     "text": [
      "Model: \"sequential_3\"\n",
      "_________________________________________________________________\n",
      "Layer (type)                 Output Shape              Param #   \n",
      "=================================================================\n",
      "inception_v3 (Functional)    (None, 6, 6, 2048)        21802784  \n",
      "_________________________________________________________________\n",
      "flatten_2 (Flatten)          (None, 73728)             0         \n",
      "_________________________________________________________________\n",
      "dense_5 (Dense)              (None, 512)               37749248  \n",
      "_________________________________________________________________\n",
      "dense_6 (Dense)              (None, 1)                 513       \n",
      "=================================================================\n",
      "Total params: 59,552,545\n",
      "Trainable params: 59,518,113\n",
      "Non-trainable params: 34,432\n",
      "_________________________________________________________________\n"
     ]
    }
   ],
   "source": [
    "model = tf.keras.applications.InceptionV3(input_shape = (256,256,3),include_top=False,weights=None)\n",
    "Inc = tf.keras.models.Sequential()\n",
    "Inc.add(model)\n",
    "Inc.add(layers.Flatten())\n",
    "Inc.add(layers.Dense(512,activation=\"relu\"))\n",
    "Inc.add(layers.Dense(1,activation=\"sigmoid\"))\n",
    "Inc.summary()"
   ]
  },
  {
   "cell_type": "code",
   "execution_count": 28,
   "id": "dbc6b351",
   "metadata": {},
   "outputs": [],
   "source": [
    "Inc.compile(loss=\"binary_crossentropy\",\n",
    "             optimizer=optimizers.Adam(learning_rate=2e-5),\n",
    "             metrics=keras.metrics.BinaryAccuracy())"
   ]
  },
  {
   "cell_type": "code",
   "execution_count": 29,
   "id": "3c05dcfa",
   "metadata": {
    "scrolled": true
   },
   "outputs": [
    {
     "name": "stdout",
     "output_type": "stream",
     "text": [
      "Epoch 1/30\n",
      "40/40 [==============================] - 23s 376ms/step - loss: 0.5811 - binary_accuracy: 0.7688 - val_loss: 0.7593 - val_binary_accuracy: 0.5000\n",
      "Epoch 2/30\n",
      "40/40 [==============================] - 14s 340ms/step - loss: 0.2793 - binary_accuracy: 0.9000 - val_loss: 1.0986 - val_binary_accuracy: 0.5000\n",
      "Epoch 3/30\n",
      "40/40 [==============================] - 14s 352ms/step - loss: 0.1964 - binary_accuracy: 0.9250 - val_loss: 1.3970 - val_binary_accuracy: 0.5000\n",
      "Epoch 4/30\n",
      "40/40 [==============================] - 14s 339ms/step - loss: 0.2010 - binary_accuracy: 0.9225 - val_loss: 2.2507 - val_binary_accuracy: 0.5000\n",
      "Epoch 5/30\n",
      "40/40 [==============================] - 14s 342ms/step - loss: 0.1508 - binary_accuracy: 0.9450 - val_loss: 2.8536 - val_binary_accuracy: 0.5000\n",
      "Epoch 6/30\n",
      "40/40 [==============================] - 14s 339ms/step - loss: 0.1045 - binary_accuracy: 0.9600 - val_loss: 3.1706 - val_binary_accuracy: 0.5000\n",
      "Epoch 7/30\n",
      "40/40 [==============================] - 14s 351ms/step - loss: 0.1114 - binary_accuracy: 0.9588 - val_loss: 4.7683 - val_binary_accuracy: 0.5000\n",
      "Epoch 8/30\n",
      "40/40 [==============================] - 14s 343ms/step - loss: 0.1013 - binary_accuracy: 0.9575 - val_loss: 6.0162 - val_binary_accuracy: 0.5000\n",
      "Epoch 9/30\n",
      "40/40 [==============================] - 14s 351ms/step - loss: 0.1073 - binary_accuracy: 0.9600 - val_loss: 5.9770 - val_binary_accuracy: 0.5000\n",
      "Epoch 10/30\n",
      "40/40 [==============================] - 14s 343ms/step - loss: 0.0772 - binary_accuracy: 0.9700 - val_loss: 4.9158 - val_binary_accuracy: 0.5000\n",
      "Epoch 11/30\n",
      "40/40 [==============================] - 14s 348ms/step - loss: 0.0951 - binary_accuracy: 0.9563 - val_loss: 3.7928 - val_binary_accuracy: 0.5000\n",
      "Epoch 12/30\n",
      "40/40 [==============================] - 14s 342ms/step - loss: 0.0621 - binary_accuracy: 0.9825 - val_loss: 2.9306 - val_binary_accuracy: 0.5050\n",
      "Epoch 13/30\n",
      "40/40 [==============================] - 14s 342ms/step - loss: 0.0960 - binary_accuracy: 0.9712 - val_loss: 3.9014 - val_binary_accuracy: 0.5000\n",
      "Epoch 14/30\n",
      "40/40 [==============================] - 14s 344ms/step - loss: 0.1124 - binary_accuracy: 0.9525 - val_loss: 1.8215 - val_binary_accuracy: 0.6250\n",
      "Epoch 15/30\n",
      "40/40 [==============================] - 14s 349ms/step - loss: 0.0845 - binary_accuracy: 0.9725 - val_loss: 0.7164 - val_binary_accuracy: 0.7800\n",
      "Epoch 16/30\n",
      "40/40 [==============================] - 14s 343ms/step - loss: 0.0278 - binary_accuracy: 0.9875 - val_loss: 0.4850 - val_binary_accuracy: 0.8600\n",
      "Epoch 17/30\n",
      "40/40 [==============================] - 14s 341ms/step - loss: 0.0235 - binary_accuracy: 0.9950 - val_loss: 0.6269 - val_binary_accuracy: 0.8400\n",
      "Epoch 18/30\n",
      "40/40 [==============================] - 14s 345ms/step - loss: 0.0183 - binary_accuracy: 0.9937 - val_loss: 0.3151 - val_binary_accuracy: 0.9100\n",
      "Epoch 19/30\n",
      "40/40 [==============================] - 14s 353ms/step - loss: 0.0308 - binary_accuracy: 0.9900 - val_loss: 0.2289 - val_binary_accuracy: 0.9150\n",
      "Epoch 20/30\n",
      "40/40 [==============================] - 14s 341ms/step - loss: 0.0220 - binary_accuracy: 0.9925 - val_loss: 0.2854 - val_binary_accuracy: 0.9150\n",
      "Epoch 21/30\n",
      "40/40 [==============================] - 14s 339ms/step - loss: 0.0253 - binary_accuracy: 0.9937 - val_loss: 0.2929 - val_binary_accuracy: 0.9300\n",
      "Epoch 22/30\n",
      "40/40 [==============================] - 14s 341ms/step - loss: 0.0153 - binary_accuracy: 0.9950 - val_loss: 0.2835 - val_binary_accuracy: 0.9250\n",
      "Epoch 23/30\n",
      "40/40 [==============================] - 14s 352ms/step - loss: 0.0115 - binary_accuracy: 0.9962 - val_loss: 0.2642 - val_binary_accuracy: 0.9350\n",
      "Epoch 24/30\n",
      "40/40 [==============================] - 14s 341ms/step - loss: 0.0098 - binary_accuracy: 0.9987 - val_loss: 0.2720 - val_binary_accuracy: 0.9150\n",
      "Epoch 25/30\n",
      "40/40 [==============================] - 14s 342ms/step - loss: 0.0460 - binary_accuracy: 0.9850 - val_loss: 0.3182 - val_binary_accuracy: 0.9100\n",
      "Epoch 26/30\n",
      "40/40 [==============================] - 14s 339ms/step - loss: 0.1302 - binary_accuracy: 0.9688 - val_loss: 0.3322 - val_binary_accuracy: 0.9100\n",
      "Epoch 27/30\n",
      "40/40 [==============================] - 14s 354ms/step - loss: 0.0412 - binary_accuracy: 0.9825 - val_loss: 0.8886 - val_binary_accuracy: 0.8100\n",
      "Epoch 28/30\n",
      "40/40 [==============================] - 14s 338ms/step - loss: 0.0455 - binary_accuracy: 0.9850 - val_loss: 0.2533 - val_binary_accuracy: 0.9250\n",
      "Epoch 29/30\n",
      "40/40 [==============================] - 14s 342ms/step - loss: 0.0125 - binary_accuracy: 0.9962 - val_loss: 0.2394 - val_binary_accuracy: 0.9400\n",
      "Epoch 30/30\n",
      "40/40 [==============================] - 14s 340ms/step - loss: 0.0348 - binary_accuracy: 0.9850 - val_loss: 0.5984 - val_binary_accuracy: 0.8950\n"
     ]
    }
   ],
   "source": [
    "historyInc = Inc.fit(train_generator,\n",
    "                   steps_per_epoch=40,\n",
    "                   epochs=30,\n",
    "                   validation_data=validation_generator,\n",
    "                   validation_steps=10,\n",
    "                    callbacks=[early_stop])"
   ]
  },
  {
   "cell_type": "code",
   "execution_count": 30,
   "id": "256ce169",
   "metadata": {},
   "outputs": [
    {
     "data": {
      "image/png": "[encoded data removed]",
      "text/plain": [
       "<Figure size 576x360 with 1 Axes>"
      ]
     },
     "metadata": {
      "needs_background": "light"
     },
     "output_type": "display_data"
    }
   ],
   "source": [
    "pd.DataFrame(historyInc.history).plot(figsize=(8,5))\n",
    "plt.grid(True)\n",
    "plt.gca().set_ylim(0,1)\n",
    "plt.show() "
   ]
  },
  {
   "cell_type": "code",
   "execution_count": 31,
   "id": "2d796eed",
   "metadata": {},
   "outputs": [
    {
     "name": "stdout",
     "output_type": "stream",
     "text": [
      "200/200 [==============================] - 6s 23ms/step - loss: 1.5670 - binary_accuracy: 0.7600: 0s - loss: 1.6033 - binary_accuracy: 0.7\n",
      "40/40 [==============================] - 11s 250ms/step - loss: 0.1801 - binary_accuracy: 0.9737\n",
      "Test loss: 1.5670291185379028, Test acc: 0.7599999904632568 \n",
      "Train loss: 0.1801101267337799, Train acc: 0.9737499952316284\n"
     ]
    }
   ],
   "source": [
    "evaluate(Inc)"
   ]
  },
  {
   "cell_type": "code",
   "execution_count": 32,
   "id": "de9f0329",
   "metadata": {},
   "outputs": [
    {
     "name": "stdout",
     "output_type": "stream",
     "text": [
      "INFO:tensorflow:Assets written to: D:\\Diss\\Weights\\INC\\Balanced\\inc\\assets\n"
     ]
    }
   ],
   "source": [
    "Inc.save(r'D:\\Diss\\Weights\\INC\\Balanced\\inc')"
   ]
  }
 ],
 "metadata": {
  "kernelspec": {
   "display_name": "Python 3",
   "language": "python",
   "name": "python3"
  },
  "language_info": {
   "codemirror_mode": {
    "name": "ipython",
    "version": 3
   },
   "file_extension": ".py",
   "mimetype": "text/x-python",
   "name": "python",
   "nbconvert_exporter": "python",
   "pygments_lexer": "ipython3",
   "version": "3.8.8"
  }
 },
 "nbformat": 4,
 "nbformat_minor": 5
}
