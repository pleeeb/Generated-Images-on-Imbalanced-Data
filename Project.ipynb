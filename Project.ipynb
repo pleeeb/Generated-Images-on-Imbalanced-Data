{
 "cells": [
  {
   "cell_type": "code",
   "execution_count": 1,
   "id": "0d4c28f6",
   "metadata": {},
   "outputs": [],
   "source": [
    "import numpy as np\n",
    "import pandas as pd\n",
    "import matplotlib as mpl\n",
    "import matplotlib.pyplot as plt\n",
    "import os\n",
    "import tensorflow as tf\n",
    "from tensorflow import keras\n",
    "from tensorflow.keras import layers\n",
    "from tensorflow.keras.preprocessing.image import ImageDataGenerator\n",
    "import PIL\n",
    "from PIL import Image\n",
    "from tensorflow.keras import applications\n",
    "from tensorflow.keras import optimizers"
   ]
  },
  {
   "cell_type": "markdown",
   "id": "36d54d38",
   "metadata": {},
   "source": [
    "# Balanced"
   ]
  },
  {
   "cell_type": "markdown",
   "id": "553a7a6f",
   "metadata": {},
   "source": [
    "### Data contains 1200 images (600 normal, 600 pneumonia). 800 will be used for train, 200 for validation, 200 for test"
   ]
  },
  {
   "cell_type": "code",
   "execution_count": 2,
   "id": "e3a089d1",
   "metadata": {},
   "outputs": [],
   "source": [
    "train_dir = r'D:\\Diss\\Train'\n",
    "test_dir = r'D:\\Diss\\Test'\n",
    "validation_dir = r'D:\\Diss\\Validation'\n",
    "imbalanced_dir = r'D:\\Diss\\Imbalanced'"
   ]
  },
  {
   "cell_type": "code",
   "execution_count": 3,
   "id": "a6b6dddf",
   "metadata": {},
   "outputs": [
    {
     "name": "stdout",
     "output_type": "stream",
     "text": [
      "Found 800 images belonging to 2 classes.\n",
      "Found 200 images belonging to 2 classes.\n"
     ]
    }
   ],
   "source": [
    "train_datagen = ImageDataGenerator(rescale=1./255)\n",
    "test_datagen = ImageDataGenerator(rescale=1./255)\n",
    "\n",
    "train_generator = train_datagen.flow_from_directory(train_dir,\n",
    "                                                   target_size=(256,256),\n",
    "                                                   batch_size=20,\n",
    "                                                   class_mode=\"binary\")\n",
    "\n",
    "validation_generator = test_datagen.flow_from_directory(validation_dir,\n",
    "                                                       target_size=(256,256),\n",
    "                                                       batch_size=20,\n",
    "                                                       class_mode=\"binary\")\n",
    "\n",
    "\n"
   ]
  },
  {
   "cell_type": "code",
   "execution_count": 4,
   "id": "f2602f3a",
   "metadata": {},
   "outputs": [],
   "source": [
    "def showImage(image):\n",
    "    image = image*255\n",
    "    image = np.array(image, dtype=np.uint8)\n",
    "    print(image)\n",
    "    if np.ndim(image)>3:\n",
    "        image = image[0]\n",
    "    image = PIL.Image.fromarray(image)\n",
    "    t.show()"
   ]
  },
  {
   "cell_type": "code",
   "execution_count": 6,
   "id": "8dbb1211",
   "metadata": {},
   "outputs": [],
   "source": [
    "def generator():\n",
    "    model = tf.keras.Sequential()\n",
    "    model.add(layers.Dense(8*8*256, use_bias=False, input_shape=(100,)))\n",
    "    model.add(layers.BatchNormalization())\n",
    "    model.add(layers.LeakyReLU())\n",
    "    \n",
    "    model.add(layers.Reshape((8,8,256)))\n",
    "    \n",
    "    model.add(layers.Conv2DTranspose(256,(5,5),strides=(2,2),padding=\"same\",\n",
    "                                    use_bias=False))\n",
    "    model.add(layers.BatchNormalization())\n",
    "    model.add(layers.LeakyReLU())\n",
    "    \n",
    "    model.add(layers.Conv2DTranspose(128,(5,5),strides=(2,2),padding=\"same\",\n",
    "                                    use_bias=False))\n",
    "    model.add(layers.BatchNormalization())\n",
    "    model.add(layers.LeakyReLU())\n",
    "    \n",
    "    model.add(layers.Conv2DTranspose(64,(5,5),strides=(2,2),padding=\"same\",\n",
    "                                    use_bias=False))\n",
    "    model.add(layers.BatchNormalization())\n",
    "    model.add(layers.LeakyReLU())\n",
    "    \n",
    "    model.add(layers.Conv2DTranspose(32,(5,5),strides=(2,2),padding=\"same\",\n",
    "                                    use_bias=False))\n",
    "    model.add(layers.BatchNormalization())\n",
    "    model.add(layers.LeakyReLU())\n",
    "    \n",
    "    model.add(layers.Conv2DTranspose(1,(5,5),strides=(2,2),padding=\"same\",\n",
    "                                    use_bias=False, activation=\"tanh\"))\n",
    "    return model"
   ]
  },
  {
   "cell_type": "code",
   "execution_count": 7,
   "id": "08543c22",
   "metadata": {},
   "outputs": [
    {
     "name": "stdout",
     "output_type": "stream",
     "text": [
      "Model: \"sequential\"\n",
      "_________________________________________________________________\n",
      "Layer (type)                 Output Shape              Param #   \n",
      "=================================================================\n",
      "dense (Dense)                (None, 16384)             1638400   \n",
      "_________________________________________________________________\n",
      "batch_normalization (BatchNo (None, 16384)             65536     \n",
      "_________________________________________________________________\n",
      "leaky_re_lu (LeakyReLU)      (None, 16384)             0         \n",
      "_________________________________________________________________\n",
      "reshape (Reshape)            (None, 8, 8, 256)         0         \n",
      "_________________________________________________________________\n",
      "conv2d_transpose (Conv2DTran (None, 16, 16, 256)       1638400   \n",
      "_________________________________________________________________\n",
      "batch_normalization_1 (Batch (None, 16, 16, 256)       1024      \n",
      "_________________________________________________________________\n",
      "leaky_re_lu_1 (LeakyReLU)    (None, 16, 16, 256)       0         \n",
      "_________________________________________________________________\n",
      "conv2d_transpose_1 (Conv2DTr (None, 32, 32, 128)       819200    \n",
      "_________________________________________________________________\n",
      "batch_normalization_2 (Batch (None, 32, 32, 128)       512       \n",
      "_________________________________________________________________\n",
      "leaky_re_lu_2 (LeakyReLU)    (None, 32, 32, 128)       0         \n",
      "_________________________________________________________________\n",
      "conv2d_transpose_2 (Conv2DTr (None, 64, 64, 64)        204800    \n",
      "_________________________________________________________________\n",
      "batch_normalization_3 (Batch (None, 64, 64, 64)        256       \n",
      "_________________________________________________________________\n",
      "leaky_re_lu_3 (LeakyReLU)    (None, 64, 64, 64)        0         \n",
      "_________________________________________________________________\n",
      "conv2d_transpose_3 (Conv2DTr (None, 128, 128, 32)      51200     \n",
      "_________________________________________________________________\n",
      "batch_normalization_4 (Batch (None, 128, 128, 32)      128       \n",
      "_________________________________________________________________\n",
      "leaky_re_lu_4 (LeakyReLU)    (None, 128, 128, 32)      0         \n",
      "_________________________________________________________________\n",
      "conv2d_transpose_4 (Conv2DTr (None, 256, 256, 1)       800       \n",
      "=================================================================\n",
      "Total params: 4,420,256\n",
      "Trainable params: 4,386,528\n",
      "Non-trainable params: 33,728\n",
      "_________________________________________________________________\n"
     ]
    }
   ],
   "source": [
    "g_test = generator()\n",
    "g_test.summary()"
   ]
  },
  {
   "cell_type": "markdown",
   "id": "605cdf9c",
   "metadata": {},
   "source": [
    "### Check if model has been made"
   ]
  },
  {
   "cell_type": "code",
   "execution_count": 6,
   "id": "58664428",
   "metadata": {},
   "outputs": [],
   "source": [
    "vgg = tf.keras.models.load_model(r'D:\\Diss\\Weights\\VGG\\Balanced\\vgg')"
   ]
  },
  {
   "cell_type": "markdown",
   "id": "99299af8",
   "metadata": {},
   "source": [
    "### Make if not"
   ]
  },
  {
   "cell_type": "code",
   "execution_count": 13,
   "id": "db457d3f",
   "metadata": {},
   "outputs": [],
   "source": [
    "early_stop = tf.keras.callbacks.EarlyStopping(monitor=\"val_loss\", patience=15, restore_best_weights=True)"
   ]
  },
  {
   "cell_type": "code",
   "execution_count": 9,
   "id": "ad34c1ac",
   "metadata": {},
   "outputs": [
    {
     "name": "stdout",
     "output_type": "stream",
     "text": [
      "Model: \"sequential_1\"\n",
      "_________________________________________________________________\n",
      "Layer (type)                 Output Shape              Param #   \n",
      "=================================================================\n",
      "vgg19 (Functional)           (None, 8, 8, 512)         20024384  \n",
      "_________________________________________________________________\n",
      "flatten (Flatten)            (None, 32768)             0         \n",
      "_________________________________________________________________\n",
      "dense_1 (Dense)              (None, 512)               16777728  \n",
      "_________________________________________________________________\n",
      "dense_2 (Dense)              (None, 1)                 513       \n",
      "=================================================================\n",
      "Total params: 36,802,625\n",
      "Trainable params: 36,802,625\n",
      "Non-trainable params: 0\n",
      "_________________________________________________________________\n"
     ]
    }
   ],
   "source": [
    "model = tf.keras.applications.VGG19(input_shape = (256,256,3),include_top=False,weights=None)\n",
    "vgg = tf.keras.models.Sequential()\n",
    "vgg.add(model)\n",
    "vgg.add(layers.Flatten())\n",
    "vgg.add(layers.Dense(512,activation=\"relu\"))\n",
    "vgg.add(layers.Dense(1,activation=\"sigmoid\"))\n",
    "vgg.summary()\n",
    "\n",
    "vgg.compile(loss=\"binary_crossentropy\",\n",
    "             optimizer=optimizers.Adam(learning_rate=2e-5),\n",
    "             metrics=keras.metrics.BinaryAccuracy())"
   ]
  },
  {
   "cell_type": "code",
   "execution_count": null,
   "id": "96e0a3a1",
   "metadata": {},
   "outputs": [],
   "source": [
    "history = vgg.fit(train_generator,\n",
    "                   steps_per_epoch=40,\n",
    "                   epochs=30,\n",
    "                   validation_data=validation_generator,\n",
    "                   validation_steps=10,\n",
    "                    callbacks=[early_stop])\n",
    "\n",
    "pd.DataFrame(history.history).plot(figsize=(8,5))\n",
    "plt.grid(True)\n",
    "plt.gca().set_ylim(0,1)\n",
    "plt.show()"
   ]
  },
  {
   "cell_type": "code",
   "execution_count": 4,
   "id": "1e31e386",
   "metadata": {},
   "outputs": [
    {
     "name": "stdout",
     "output_type": "stream",
     "text": [
      "Found 200 images belonging to 2 classes.\n"
     ]
    }
   ],
   "source": [
    "test_generator = test_datagen.flow_from_directory(test_dir,\n",
    "                                                  batch_size=1,\n",
    "                                                 target_size=(256,256),\n",
    "                                                 class_mode=\"binary\")\n",
    "\n",
    "def evaluate(model):\n",
    "    test_loss, test_acc = model.evaluate(test_generator)\n",
    "    train_loss, train_acc = model.evaluate(train_generator)\n",
    "    \n",
    "    print(\"Test loss: {0}, Test acc: {1} \\nTrain loss: {2}, Train acc: {3}\".format(test_loss,test_acc,\n",
    "                                                                                   train_loss, train_acc))"
   ]
  },
  {
   "cell_type": "code",
   "execution_count": 15,
   "id": "cf01cdd4",
   "metadata": {},
   "outputs": [
    {
     "name": "stdout",
     "output_type": "stream",
     "text": [
      "200/200 [==============================] - 7s 27ms/step - loss: 0.3820 - binary_accuracy: 0.8750\n",
      "40/40 [==============================] - 12s 270ms/step - loss: 0.0472 - binary_accuracy: 0.98758s - loss\n",
      "Test loss: 0.3819844722747803, Test acc: 0.875 \n",
      "Train loss: 0.047201741486787796, Train acc: 0.987500011920929\n"
     ]
    }
   ],
   "source": [
    "evaluate(vgg)"
   ]
  },
  {
   "cell_type": "code",
   "execution_count": 17,
   "id": "0a90ab57",
   "metadata": {},
   "outputs": [
    {
     "name": "stdout",
     "output_type": "stream",
     "text": [
      "INFO:tensorflow:Assets written to: D:\\Diss\\Weights\\VGG\\Balanced\\vgg\\assets\n"
     ]
    }
   ],
   "source": [
    "vgg.save(r'D:\\Diss\\Weights\\VGG\\Balanced\\vgg')"
   ]
  },
  {
   "cell_type": "markdown",
   "id": "29ca1e0c",
   "metadata": {},
   "source": [
    "### Check for model"
   ]
  },
  {
   "cell_type": "code",
   "execution_count": 9,
   "id": "2271eaa7",
   "metadata": {},
   "outputs": [],
   "source": [
    "res = tf.keras.models.load_model(r'D:\\Diss\\Weights\\RES\\Balanced\\res')"
   ]
  },
  {
   "cell_type": "code",
   "execution_count": 10,
   "id": "0d108e6c",
   "metadata": {},
   "outputs": [],
   "source": [
    "res_early_stop = tf.keras.callbacks.EarlyStopping(monitor=\"val_loss\", patience=15, restore_best_weights=False)"
   ]
  },
  {
   "cell_type": "code",
   "execution_count": 18,
   "id": "fd3f5016",
   "metadata": {},
   "outputs": [
    {
     "name": "stdout",
     "output_type": "stream",
     "text": [
      "Model: \"sequential_2\"\n",
      "_________________________________________________________________\n",
      "Layer (type)                 Output Shape              Param #   \n",
      "=================================================================\n",
      "resnet50v2 (Functional)      (None, 8, 8, 2048)        23564800  \n",
      "_________________________________________________________________\n",
      "flatten_1 (Flatten)          (None, 131072)            0         \n",
      "_________________________________________________________________\n",
      "dense_3 (Dense)              (None, 512)               67109376  \n",
      "_________________________________________________________________\n",
      "dense_4 (Dense)              (None, 1)                 513       \n",
      "=================================================================\n",
      "Total params: 90,674,689\n",
      "Trainable params: 90,629,249\n",
      "Non-trainable params: 45,440\n",
      "_________________________________________________________________\n"
     ]
    }
   ],
   "source": [
    "model = tf.keras.applications.ResNet50V2(input_shape = (256,256,3),include_top=False,weights=None)\n",
    "res = tf.keras.models.Sequential()\n",
    "res.add(model)\n",
    "res.add(layers.Flatten())\n",
    "res.add(layers.Dense(512,activation=\"relu\"))\n",
    "res.add(layers.Dense(1,activation=\"sigmoid\"))\n",
    "res.summary()\n",
    "\n",
    "res.compile(loss=\"binary_crossentropy\",\n",
    "             optimizer=optimizers.Adam(learning_rate=2e-5),\n",
    "             metrics=keras.metrics.BinaryAccuracy())"
   ]
  },
  {
   "cell_type": "code",
   "execution_count": null,
   "id": "e9b68f6b",
   "metadata": {},
   "outputs": [],
   "source": [
    "historyres = res.fit(train_generator,\n",
    "                   steps_per_epoch=40,\n",
    "                   epochs=30,\n",
    "                   validation_data=validation_generator,\n",
    "                   validation_steps=10,\n",
    "                    callbacks=[res_early_stop])\n",
    "\n",
    "pd.DataFrame(historyres.history).plot(figsize=(8,5))\n",
    "plt.grid(True)\n",
    "plt.gca().set_ylim(0,1)\n",
    "plt.show()"
   ]
  },
  {
   "cell_type": "code",
   "execution_count": 25,
   "id": "2e3c5ee9",
   "metadata": {},
   "outputs": [
    {
     "name": "stdout",
     "output_type": "stream",
     "text": [
      "200/200 [==============================] - 5s 18ms/step - loss: 0.6086 - binary_accuracy: 0.8300\n",
      "40/40 [==============================] - 11s 257ms/step - loss: 2.9137e-05 - binary_accuracy: 1.0000\n",
      "Test loss: 0.608567476272583, Test acc: 0.8299999833106995 \n",
      "Train loss: 2.9137136152712628e-05, Train acc: 1.0\n"
     ]
    }
   ],
   "source": [
    "evaluate(res)"
   ]
  },
  {
   "cell_type": "code",
   "execution_count": 26,
   "id": "629ddf46",
   "metadata": {
    "scrolled": true
   },
   "outputs": [
    {
     "name": "stdout",
     "output_type": "stream",
     "text": [
      "INFO:tensorflow:Assets written to: D:\\Diss\\Weights\\RES\\Balanced\\res\\assets\n"
     ]
    },
    {
     "name": "stderr",
     "output_type": "stream",
     "text": [
      "C:\\Users\\Pete\\AppData\\Roaming\\Python\\Python38\\site-packages\\keras\\utils\\generic_utils.py:494: CustomMaskWarning: Custom mask layers require a config and must override get_config. When loading, the custom mask layer must be passed to the custom_objects argument.\n",
      "  warnings.warn('Custom mask layers require a config and must override '\n"
     ]
    }
   ],
   "source": [
    "res.save(r'D:\\Diss\\Weights\\RES\\Balanced\\res')"
   ]
  },
  {
   "cell_type": "code",
   "execution_count": 19,
   "id": "a08e3fff",
   "metadata": {},
   "outputs": [],
   "source": [
    "Inc = tf.keras.models.load_model(r'D:\\Diss\\Weights\\INC\\Balanced\\inc')"
   ]
  },
  {
   "cell_type": "code",
   "execution_count": 27,
   "id": "d5923b39",
   "metadata": {},
   "outputs": [
    {
     "name": "stdout",
     "output_type": "stream",
     "text": [
      "Model: \"sequential_3\"\n",
      "_________________________________________________________________\n",
      "Layer (type)                 Output Shape              Param #   \n",
      "=================================================================\n",
      "inception_v3 (Functional)    (None, 6, 6, 2048)        21802784  \n",
      "_________________________________________________________________\n",
      "flatten_2 (Flatten)          (None, 73728)             0         \n",
      "_________________________________________________________________\n",
      "dense_5 (Dense)              (None, 512)               37749248  \n",
      "_________________________________________________________________\n",
      "dense_6 (Dense)              (None, 1)                 513       \n",
      "=================================================================\n",
      "Total params: 59,552,545\n",
      "Trainable params: 59,518,113\n",
      "Non-trainable params: 34,432\n",
      "_________________________________________________________________\n"
     ]
    }
   ],
   "source": [
    "model = tf.keras.applications.InceptionV3(input_shape = (256,256,3),include_top=False,weights=None)\n",
    "Inc = tf.keras.models.Sequential()\n",
    "Inc.add(model)\n",
    "Inc.add(layers.Flatten())\n",
    "Inc.add(layers.Dense(512,activation=\"relu\"))\n",
    "Inc.add(layers.Dense(1,activation=\"sigmoid\"))\n",
    "Inc.summary()\n",
    "\n",
    "Inc.compile(loss=\"binary_crossentropy\",\n",
    "             optimizer=optimizers.Adam(learning_rate=2e-5),\n",
    "             metrics=keras.metrics.BinaryAccuracy())"
   ]
  },
  {
   "cell_type": "code",
   "execution_count": 20,
   "id": "fd90aec6",
   "metadata": {},
   "outputs": [
    {
     "name": "stdout",
     "output_type": "stream",
     "text": [
      "Epoch 1/30\n",
      "40/40 [==============================] - 20s 377ms/step - loss: 0.0220 - binary_accuracy: 0.9937 - val_loss: 0.3739 - val_binary_accuracy: 0.9150\n",
      "Epoch 2/30\n",
      "40/40 [==============================] - 14s 356ms/step - loss: 0.0210 - binary_accuracy: 0.9937 - val_loss: 0.4735 - val_binary_accuracy: 0.9350\n",
      "Epoch 3/30\n",
      "40/40 [==============================] - 14s 346ms/step - loss: 0.0775 - binary_accuracy: 0.9800 - val_loss: 0.6704 - val_binary_accuracy: 0.9300\n",
      "Epoch 4/30\n",
      "40/40 [==============================] - 14s 346ms/step - loss: 0.0898 - binary_accuracy: 0.9762 - val_loss: 0.9624 - val_binary_accuracy: 0.9000\n",
      "Epoch 5/30\n",
      "40/40 [==============================] - 14s 343ms/step - loss: 0.0590 - binary_accuracy: 0.9850 - val_loss: 0.4521 - val_binary_accuracy: 0.9150\n",
      "Epoch 6/30\n",
      "40/40 [==============================] - 14s 348ms/step - loss: 0.0242 - binary_accuracy: 0.9925 - val_loss: 0.3001 - val_binary_accuracy: 0.9400\n",
      "Epoch 7/30\n",
      "40/40 [==============================] - 14s 340ms/step - loss: 0.0097 - binary_accuracy: 0.9962 - val_loss: 0.3011 - val_binary_accuracy: 0.9300\n",
      "Epoch 8/30\n",
      "40/40 [==============================] - 14s 348ms/step - loss: 0.0209 - binary_accuracy: 0.9937 - val_loss: 0.3233 - val_binary_accuracy: 0.9200\n",
      "Epoch 9/30\n",
      "40/40 [==============================] - 14s 340ms/step - loss: 0.0057 - binary_accuracy: 0.9987 - val_loss: 0.2760 - val_binary_accuracy: 0.9250\n",
      "Epoch 10/30\n",
      "40/40 [==============================] - 14s 350ms/step - loss: 0.0024 - binary_accuracy: 0.9987 - val_loss: 0.2261 - val_binary_accuracy: 0.9400\n",
      "Epoch 11/30\n",
      "40/40 [==============================] - 14s 343ms/step - loss: 0.0088 - binary_accuracy: 0.9950 - val_loss: 0.3955 - val_binary_accuracy: 0.9150\n",
      "Epoch 12/30\n",
      "40/40 [==============================] - 14s 346ms/step - loss: 0.0077 - binary_accuracy: 0.9975 - val_loss: 0.3187 - val_binary_accuracy: 0.9350\n",
      "Epoch 13/30\n",
      "40/40 [==============================] - 14s 342ms/step - loss: 0.0225 - binary_accuracy: 0.9900 - val_loss: 0.4561 - val_binary_accuracy: 0.9250\n",
      "Epoch 14/30\n",
      "40/40 [==============================] - 14s 345ms/step - loss: 0.0206 - binary_accuracy: 0.9925 - val_loss: 0.7971 - val_binary_accuracy: 0.9050\n",
      "Epoch 15/30\n",
      "40/40 [==============================] - 14s 340ms/step - loss: 0.0168 - binary_accuracy: 0.9950 - val_loss: 0.3408 - val_binary_accuracy: 0.9400\n",
      "Epoch 16/30\n",
      "40/40 [==============================] - 14s 343ms/step - loss: 0.0413 - binary_accuracy: 0.9900 - val_loss: 0.6860 - val_binary_accuracy: 0.9250\n",
      "Epoch 17/30\n",
      "40/40 [==============================] - 14s 344ms/step - loss: 0.1381 - binary_accuracy: 0.9737 - val_loss: 0.6339 - val_binary_accuracy: 0.9000\n",
      "Epoch 18/30\n",
      "40/40 [==============================] - 14s 353ms/step - loss: 0.1311 - binary_accuracy: 0.9712 - val_loss: 0.5314 - val_binary_accuracy: 0.9200\n",
      "Epoch 19/30\n",
      "40/40 [==============================] - 14s 341ms/step - loss: 0.0391 - binary_accuracy: 0.9887 - val_loss: 0.4885 - val_binary_accuracy: 0.9200\n",
      "Epoch 20/30\n",
      "40/40 [==============================] - 14s 348ms/step - loss: 0.0485 - binary_accuracy: 0.9900 - val_loss: 1.1218 - val_binary_accuracy: 0.8650\n",
      "Epoch 21/30\n",
      "40/40 [==============================] - 14s 343ms/step - loss: 0.0845 - binary_accuracy: 0.9837 - val_loss: 0.2997 - val_binary_accuracy: 0.9300\n",
      "Epoch 22/30\n",
      "40/40 [==============================] - 14s 345ms/step - loss: 0.0329 - binary_accuracy: 0.9925 - val_loss: 0.2789 - val_binary_accuracy: 0.9450\n",
      "Epoch 23/30\n",
      "40/40 [==============================] - 14s 340ms/step - loss: 0.0144 - binary_accuracy: 0.9950 - val_loss: 0.2275 - val_binary_accuracy: 0.9500\n",
      "Epoch 24/30\n",
      "40/40 [==============================] - 14s 348ms/step - loss: 0.0089 - binary_accuracy: 0.9962 - val_loss: 0.2706 - val_binary_accuracy: 0.9500\n",
      "Epoch 25/30\n",
      "40/40 [==============================] - 14s 344ms/step - loss: 0.0042 - binary_accuracy: 0.9987 - val_loss: 0.2722 - val_binary_accuracy: 0.9450\n"
     ]
    },
    {
     "data": {
      "image/png": "[encoded data removed]",
      "text/plain": [
       "<Figure size 576x360 with 1 Axes>"
      ]
     },
     "metadata": {
      "needs_background": "light"
     },
     "output_type": "display_data"
    }
   ],
   "source": [
    "historyInc = Inc.fit(train_generator,\n",
    "                   steps_per_epoch=40,\n",
    "                   epochs=30,\n",
    "                   validation_data=validation_generator,\n",
    "                   validation_steps=10,\n",
    "                    callbacks=[early_stop])\n",
    "\n",
    "pd.DataFrame(historyInc.history).plot(figsize=(8,5))\n",
    "plt.grid(True)\n",
    "plt.gca().set_ylim(0,1)\n",
    "plt.show() "
   ]
  },
  {
   "cell_type": "code",
   "execution_count": 21,
   "id": "2d796eed",
   "metadata": {},
   "outputs": [
    {
     "name": "stdout",
     "output_type": "stream",
     "text": [
      "200/200 [==============================] - 6s 25ms/step - loss: 1.0600 - binary_accuracy: 0.8350\n",
      "40/40 [==============================] - 11s 264ms/step - loss: 0.0012 - binary_accuracy: 1.0000\n",
      "Test loss: 1.0599955320358276, Test acc: 0.8349999785423279 \n",
      "Train loss: 0.0011626043124124408, Train acc: 1.0\n"
     ]
    }
   ],
   "source": [
    "evaluate(Inc)"
   ]
  },
  {
   "cell_type": "code",
   "execution_count": 23,
   "id": "de9f0329",
   "metadata": {},
   "outputs": [
    {
     "name": "stdout",
     "output_type": "stream",
     "text": [
      "INFO:tensorflow:Assets written to: D:\\Diss\\Weights\\INC\\Balanced\\inc\\assets\n"
     ]
    }
   ],
   "source": [
    "Inc.save(r'D:\\Diss\\Weights\\INC\\Balanced\\inc')"
   ]
  },
  {
   "cell_type": "markdown",
   "id": "6a1106d3",
   "metadata": {},
   "source": [
    "# Imbalanced"
   ]
  },
  {
   "cell_type": "markdown",
   "id": "ad989f5d",
   "metadata": {},
   "source": [
    "### 600 Images consisting of 200 normal and 400 pneumonia"
   ]
  },
  {
   "cell_type": "code",
   "execution_count": 5,
   "id": "606b59cd",
   "metadata": {},
   "outputs": [
    {
     "name": "stdout",
     "output_type": "stream",
     "text": [
      "Found 600 images belonging to 2 classes.\n"
     ]
    }
   ],
   "source": [
    "train_imbalanced_datagen = ImageDataGenerator(rescale=1./255)\n",
    "\n",
    "train_imbalanced_generator = train_imbalanced_datagen.flow_from_directory(imbalanced_dir,\n",
    "                                                   target_size=(256,256),\n",
    "                                                   batch_size=20,\n",
    "                                                   class_mode=\"binary\")"
   ]
  },
  {
   "cell_type": "code",
   "execution_count": null,
   "id": "7037090c",
   "metadata": {},
   "outputs": [],
   "source": [
    "vgg_im = tf.keras.models.load_model(\"D:\\Diss\\Weights\\VGG\\Imbalanced\\vgg_im\")"
   ]
  },
  {
   "cell_type": "code",
   "execution_count": 13,
   "id": "a7dffbd2",
   "metadata": {},
   "outputs": [
    {
     "name": "stdout",
     "output_type": "stream",
     "text": [
      "Epoch 1/30\n",
      "30/30 [==============================] - 36s 843ms/step - loss: 0.6660 - binary_accuracy: 0.6667 - val_loss: 0.7250 - val_binary_accuracy: 0.5000\n",
      "Epoch 2/30\n",
      "30/30 [==============================] - 12s 406ms/step - loss: 0.6428 - binary_accuracy: 0.6667 - val_loss: 0.7166 - val_binary_accuracy: 0.5000\n",
      "Epoch 3/30\n",
      "30/30 [==============================] - 12s 410ms/step - loss: 0.6474 - binary_accuracy: 0.6667 - val_loss: 0.7330 - val_binary_accuracy: 0.5000\n",
      "Epoch 4/30\n",
      "30/30 [==============================] - 12s 405ms/step - loss: 0.5778 - binary_accuracy: 0.6883 - val_loss: 0.6832 - val_binary_accuracy: 0.5000\n",
      "Epoch 5/30\n",
      "30/30 [==============================] - 12s 411ms/step - loss: 0.3903 - binary_accuracy: 0.8567 - val_loss: 0.3443 - val_binary_accuracy: 0.8950\n",
      "Epoch 6/30\n",
      "30/30 [==============================] - 12s 406ms/step - loss: 0.2026 - binary_accuracy: 0.9250 - val_loss: 0.3166 - val_binary_accuracy: 0.8950\n",
      "Epoch 7/30\n",
      "30/30 [==============================] - 12s 405ms/step - loss: 0.1934 - binary_accuracy: 0.9400 - val_loss: 0.2712 - val_binary_accuracy: 0.9100\n",
      "Epoch 8/30\n",
      "30/30 [==============================] - 12s 407ms/step - loss: 0.1558 - binary_accuracy: 0.9417 - val_loss: 0.2393 - val_binary_accuracy: 0.9100\n",
      "Epoch 9/30\n",
      "30/30 [==============================] - 12s 410ms/step - loss: 0.1314 - binary_accuracy: 0.9650 - val_loss: 0.2369 - val_binary_accuracy: 0.9150\n",
      "Epoch 10/30\n",
      "30/30 [==============================] - 12s 407ms/step - loss: 0.1423 - binary_accuracy: 0.9500 - val_loss: 0.2302 - val_binary_accuracy: 0.9200\n",
      "Epoch 11/30\n",
      "30/30 [==============================] - 12s 408ms/step - loss: 0.1106 - binary_accuracy: 0.9667 - val_loss: 0.2513 - val_binary_accuracy: 0.9300\n",
      "Epoch 12/30\n",
      "30/30 [==============================] - 12s 406ms/step - loss: 0.0895 - binary_accuracy: 0.9717 - val_loss: 0.3325 - val_binary_accuracy: 0.8650\n",
      "Epoch 13/30\n",
      "30/30 [==============================] - 12s 404ms/step - loss: 0.0962 - binary_accuracy: 0.9733 - val_loss: 0.2614 - val_binary_accuracy: 0.9100\n",
      "Epoch 14/30\n",
      "30/30 [==============================] - 12s 406ms/step - loss: 0.0802 - binary_accuracy: 0.9767 - val_loss: 0.3329 - val_binary_accuracy: 0.9100\n",
      "Epoch 15/30\n",
      "30/30 [==============================] - 12s 412ms/step - loss: 0.0884 - binary_accuracy: 0.9667 - val_loss: 0.2869 - val_binary_accuracy: 0.9000\n",
      "Epoch 16/30\n",
      "30/30 [==============================] - 12s 409ms/step - loss: 0.0607 - binary_accuracy: 0.9767 - val_loss: 0.2969 - val_binary_accuracy: 0.9100\n",
      "Epoch 17/30\n",
      "30/30 [==============================] - 13s 413ms/step - loss: 0.0597 - binary_accuracy: 0.9783 - val_loss: 0.3149 - val_binary_accuracy: 0.9050\n",
      "Epoch 18/30\n",
      "30/30 [==============================] - 12s 407ms/step - loss: 0.0599 - binary_accuracy: 0.9783 - val_loss: 0.2597 - val_binary_accuracy: 0.9150\n",
      "Epoch 19/30\n",
      "30/30 [==============================] - 13s 412ms/step - loss: 0.0497 - binary_accuracy: 0.9850 - val_loss: 0.3580 - val_binary_accuracy: 0.9000\n",
      "Epoch 20/30\n",
      "30/30 [==============================] - 12s 409ms/step - loss: 0.0368 - binary_accuracy: 0.9850 - val_loss: 0.4887 - val_binary_accuracy: 0.9100\n",
      "Epoch 21/30\n",
      "30/30 [==============================] - 12s 407ms/step - loss: 0.0645 - binary_accuracy: 0.9750 - val_loss: 0.3323 - val_binary_accuracy: 0.9050\n",
      "Epoch 22/30\n",
      "30/30 [==============================] - 12s 410ms/step - loss: 0.0675 - binary_accuracy: 0.9750 - val_loss: 0.2651 - val_binary_accuracy: 0.9250\n",
      "Epoch 23/30\n",
      "30/30 [==============================] - 13s 412ms/step - loss: 0.0487 - binary_accuracy: 0.9817 - val_loss: 0.4128 - val_binary_accuracy: 0.9150\n",
      "Epoch 24/30\n",
      "30/30 [==============================] - 12s 407ms/step - loss: 0.0352 - binary_accuracy: 0.9900 - val_loss: 0.3933 - val_binary_accuracy: 0.9050\n",
      "Epoch 25/30\n",
      "30/30 [==============================] - 12s 407ms/step - loss: 0.0611 - binary_accuracy: 0.9833 - val_loss: 0.3307 - val_binary_accuracy: 0.9100\n"
     ]
    },
    {
     "data": {
      "image/png": "[encoded data removed]",
      "text/plain": [
       "<Figure size 576x360 with 1 Axes>"
      ]
     },
     "metadata": {
      "needs_background": "light"
     },
     "output_type": "display_data"
    }
   ],
   "source": [
    "model = tf.keras.applications.VGG19(input_shape = (256,256,3),include_top=False,weights=None)\n",
    "vgg_im = tf.keras.models.Sequential()\n",
    "vgg_im.add(model)\n",
    "vgg_im.add(layers.Flatten())\n",
    "vgg_im.add(layers.Dense(512,activation=\"relu\"))\n",
    "vgg_im.add(layers.Dense(1,activation=\"sigmoid\"))\n",
    "\n",
    "vgg_im.compile(loss=\"binary_crossentropy\",\n",
    "             optimizer=optimizers.Adam(learning_rate=2e-5),\n",
    "             metrics=keras.metrics.BinaryAccuracy())"
   ]
  },
  {
   "cell_type": "code",
   "execution_count": null,
   "id": "a3646766",
   "metadata": {},
   "outputs": [],
   "source": [
    "early_stop = tf.keras.callbacks.EarlyStopping(monitor=\"val_loss\", patience=15, restore_best_weights=True)\n",
    "history = vgg_im.fit(train_imbalanced_generator,\n",
    "                   steps_per_epoch=30,\n",
    "                   epochs=30,\n",
    "                   validation_data=validation_generator,\n",
    "                   validation_steps=10,\n",
    "                    callbacks=[early_stop])\n",
    "\n",
    "pd.DataFrame(history.history).plot(figsize=(8,5))\n",
    "plt.grid(True)\n",
    "plt.gca().set_ylim(0,1)\n",
    "plt.show()"
   ]
  },
  {
   "cell_type": "code",
   "execution_count": 14,
   "id": "e5bf544d",
   "metadata": {},
   "outputs": [
    {
     "name": "stdout",
     "output_type": "stream",
     "text": [
      "200/200 [==============================] - 7s 28ms/step - loss: 0.4130 - binary_accuracy: 0.8500: 1s - loss: 0.4574 - binary_a\n",
      "40/40 [==============================] - 24s 590ms/step - loss: 0.1097 - binary_accuracy: 0.9675\n",
      "Test loss: 0.4129546284675598, Test acc: 0.8500000238418579 \n",
      "Train loss: 0.10972023010253906, Train acc: 0.9674999713897705\n"
     ]
    }
   ],
   "source": [
    "evaluate(vgg_im)"
   ]
  },
  {
   "cell_type": "code",
   "execution_count": 15,
   "id": "7ef3da30",
   "metadata": {},
   "outputs": [
    {
     "name": "stdout",
     "output_type": "stream",
     "text": [
      "INFO:tensorflow:Assets written to: D:\\Diss\\Weights\\VGG\\Imbalanced\\vgg_im\\assets\n"
     ]
    }
   ],
   "source": [
    "vgg_im.save(r'D:\\Diss\\Weights\\VGG\\Imbalanced\\vgg_im')"
   ]
  },
  {
   "cell_type": "code",
   "execution_count": null,
   "id": "09ef21c9",
   "metadata": {},
   "outputs": [],
   "source": [
    "res_im = tf.keras.models.load_model(r'D:\\Diss\\Weights\\RES\\Imbalanced\\res_im')"
   ]
  },
  {
   "cell_type": "code",
   "execution_count": 6,
   "id": "4e07e26e",
   "metadata": {},
   "outputs": [
    {
     "name": "stdout",
     "output_type": "stream",
     "text": [
      "Model: \"sequential\"\n",
      "_________________________________________________________________\n",
      "Layer (type)                 Output Shape              Param #   \n",
      "=================================================================\n",
      "resnet50v2 (Functional)      (None, 8, 8, 2048)        23564800  \n",
      "_________________________________________________________________\n",
      "flatten (Flatten)            (None, 131072)            0         \n",
      "_________________________________________________________________\n",
      "dense (Dense)                (None, 512)               67109376  \n",
      "_________________________________________________________________\n",
      "dense_1 (Dense)              (None, 1)                 513       \n",
      "=================================================================\n",
      "Total params: 90,674,689\n",
      "Trainable params: 90,629,249\n",
      "Non-trainable params: 45,440\n",
      "_________________________________________________________________\n"
     ]
    }
   ],
   "source": [
    "model = tf.keras.applications.ResNet50V2(input_shape = (256,256,3),include_top=False,weights=None)\n",
    "res_im = tf.keras.models.Sequential()\n",
    "res_im.add(model)\n",
    "res_im.add(layers.Flatten())\n",
    "res_im.add(layers.Dense(512,activation=\"relu\"))\n",
    "res_im.add(layers.Dense(1,activation=\"sigmoid\"))\n",
    "res_im.summary()\n",
    "\n",
    "res_early_stop = tf.keras.callbacks.EarlyStopping(monitor=\"val_loss\", patience=20, restore_best_weights=False)\n",
    "\n",
    "res_im.compile(loss=\"binary_crossentropy\",\n",
    "             optimizer=optimizers.Adam(learning_rate=2e-5),\n",
    "             metrics=keras.metrics.BinaryAccuracy())"
   ]
  },
  {
   "cell_type": "code",
   "execution_count": 8,
   "id": "03d14500",
   "metadata": {},
   "outputs": [
    {
     "name": "stdout",
     "output_type": "stream",
     "text": [
      "Epoch 1/30\n",
      "30/30 [==============================] - 10s 339ms/step - loss: 3.8100e-04 - binary_accuracy: 1.0000 - val_loss: 2.4178 - val_binary_accuracy: 0.5000\n",
      "Epoch 2/30\n",
      "30/30 [==============================] - 10s 328ms/step - loss: 9.0962e-04 - binary_accuracy: 1.0000 - val_loss: 2.0498 - val_binary_accuracy: 0.5150\n",
      "Epoch 3/30\n",
      "30/30 [==============================] - 10s 327ms/step - loss: 9.3857e-04 - binary_accuracy: 1.0000 - val_loss: 1.0151 - val_binary_accuracy: 0.6500\n",
      "Epoch 4/30\n",
      "30/30 [==============================] - 10s 334ms/step - loss: 5.1292e-04 - binary_accuracy: 1.0000 - val_loss: 1.0527 - val_binary_accuracy: 0.6800\n",
      "Epoch 5/30\n",
      "30/30 [==============================] - 10s 339ms/step - loss: 3.1699e-04 - binary_accuracy: 1.0000 - val_loss: 0.7250 - val_binary_accuracy: 0.7650\n",
      "Epoch 6/30\n",
      "30/30 [==============================] - 10s 340ms/step - loss: 8.1141e-04 - binary_accuracy: 1.0000 - val_loss: 0.6678 - val_binary_accuracy: 0.7900\n",
      "Epoch 7/30\n",
      "30/30 [==============================] - 10s 325ms/step - loss: 4.9789e-04 - binary_accuracy: 1.0000 - val_loss: 0.4551 - val_binary_accuracy: 0.8600\n",
      "Epoch 8/30\n",
      "30/30 [==============================] - 10s 330ms/step - loss: 3.2445e-04 - binary_accuracy: 1.0000 - val_loss: 0.4059 - val_binary_accuracy: 0.8650\n",
      "Epoch 9/30\n",
      "30/30 [==============================] - 10s 331ms/step - loss: 4.1793e-04 - binary_accuracy: 1.0000 - val_loss: 0.3989 - val_binary_accuracy: 0.8700\n",
      "Epoch 10/30\n",
      "30/30 [==============================] - 10s 338ms/step - loss: 4.1577e-04 - binary_accuracy: 1.0000 - val_loss: 0.3192 - val_binary_accuracy: 0.8900\n",
      "Epoch 11/30\n",
      "30/30 [==============================] - 10s 333ms/step - loss: 4.1926e-04 - binary_accuracy: 1.0000 - val_loss: 0.3487 - val_binary_accuracy: 0.8900\n",
      "Epoch 12/30\n",
      "30/30 [==============================] - 10s 331ms/step - loss: 5.3251e-04 - binary_accuracy: 1.0000 - val_loss: 0.2481 - val_binary_accuracy: 0.8800\n",
      "Epoch 13/30\n",
      "30/30 [==============================] - 10s 328ms/step - loss: 5.1797e-04 - binary_accuracy: 1.0000 - val_loss: 0.2867 - val_binary_accuracy: 0.8850\n",
      "Epoch 14/30\n",
      "30/30 [==============================] - 10s 334ms/step - loss: 2.9242e-04 - binary_accuracy: 1.0000 - val_loss: 0.2646 - val_binary_accuracy: 0.8950\n",
      "Epoch 15/30\n",
      "30/30 [==============================] - 10s 327ms/step - loss: 1.7267e-04 - binary_accuracy: 1.0000 - val_loss: 0.2765 - val_binary_accuracy: 0.8850\n",
      "Epoch 16/30\n",
      "30/30 [==============================] - 10s 329ms/step - loss: 2.3634e-04 - binary_accuracy: 1.0000 - val_loss: 0.2961 - val_binary_accuracy: 0.8900\n",
      "Epoch 17/30\n",
      "30/30 [==============================] - 10s 331ms/step - loss: 2.7194e-04 - binary_accuracy: 1.0000 - val_loss: 0.3010 - val_binary_accuracy: 0.8900\n",
      "Epoch 18/30\n",
      "30/30 [==============================] - 10s 337ms/step - loss: 1.8234e-04 - binary_accuracy: 1.0000 - val_loss: 0.3077 - val_binary_accuracy: 0.8800\n",
      "Epoch 19/30\n",
      "30/30 [==============================] - 10s 327ms/step - loss: 1.7272e-04 - binary_accuracy: 1.0000 - val_loss: 0.2733 - val_binary_accuracy: 0.8950\n",
      "Epoch 20/30\n",
      "30/30 [==============================] - 10s 330ms/step - loss: 1.7949e-04 - binary_accuracy: 1.0000 - val_loss: 0.2818 - val_binary_accuracy: 0.8900\n",
      "Epoch 21/30\n",
      "30/30 [==============================] - 10s 328ms/step - loss: 2.2993e-04 - binary_accuracy: 1.0000 - val_loss: 0.2690 - val_binary_accuracy: 0.8950\n",
      "Epoch 22/30\n",
      "30/30 [==============================] - 10s 338ms/step - loss: 1.6122e-04 - binary_accuracy: 1.0000 - val_loss: 0.2736 - val_binary_accuracy: 0.8950\n",
      "Epoch 23/30\n",
      "30/30 [==============================] - 10s 326ms/step - loss: 1.1168e-04 - binary_accuracy: 1.0000 - val_loss: 0.2734 - val_binary_accuracy: 0.9000\n",
      "Epoch 24/30\n",
      "30/30 [==============================] - 10s 334ms/step - loss: 9.4718e-05 - binary_accuracy: 1.0000 - val_loss: 0.2792 - val_binary_accuracy: 0.8950\n",
      "Epoch 25/30\n",
      "30/30 [==============================] - 10s 333ms/step - loss: 2.0417e-04 - binary_accuracy: 1.0000 - val_loss: 0.2637 - val_binary_accuracy: 0.9100\n",
      "Epoch 26/30\n",
      "30/30 [==============================] - 10s 341ms/step - loss: 1.5077e-04 - binary_accuracy: 1.0000 - val_loss: 0.3132 - val_binary_accuracy: 0.8800\n",
      "Epoch 27/30\n",
      "30/30 [==============================] - 10s 328ms/step - loss: 1.8274e-04 - binary_accuracy: 1.0000 - val_loss: 0.2635 - val_binary_accuracy: 0.9000\n",
      "Epoch 28/30\n",
      "30/30 [==============================] - 10s 334ms/step - loss: 1.0747e-04 - binary_accuracy: 1.0000 - val_loss: 0.2626 - val_binary_accuracy: 0.9050\n",
      "Epoch 29/30\n",
      "30/30 [==============================] - 10s 334ms/step - loss: 1.3613e-04 - binary_accuracy: 1.0000 - val_loss: 0.2662 - val_binary_accuracy: 0.9000\n",
      "Epoch 30/30\n",
      "30/30 [==============================] - 10s 338ms/step - loss: 1.3606e-04 - binary_accuracy: 1.0000 - val_loss: 0.2556 - val_binary_accuracy: 0.9050\n"
     ]
    },
    {
     "data": {
      "image/png": "[encoded data removed]",
      "text/plain": [
       "<Figure size 576x360 with 1 Axes>"
      ]
     },
     "metadata": {
      "needs_background": "light"
     },
     "output_type": "display_data"
    }
   ],
   "source": [
    "historyres = res_im.fit(train_imbalanced_generator,\n",
    "                   steps_per_epoch=30,\n",
    "                   epochs=30,\n",
    "                   validation_data=validation_generator,\n",
    "                   validation_steps=10,\n",
    "                    callbacks=[res_early_stop])\n",
    "\n",
    "pd.DataFrame(historyres.history).plot(figsize=(8,5))\n",
    "plt.grid(True)\n",
    "plt.gca().set_ylim(0,1)\n",
    "plt.show()"
   ]
  },
  {
   "cell_type": "code",
   "execution_count": 9,
   "id": "43320705",
   "metadata": {},
   "outputs": [
    {
     "name": "stdout",
     "output_type": "stream",
     "text": [
      "200/200 [==============================] - 6s 23ms/step - loss: 0.9628 - binary_accuracy: 0.7500\n",
      "40/40 [==============================] - 19s 463ms/step - loss: 0.0851 - binary_accuracy: 0.9725\n",
      "Test loss: 0.9628458619117737, Test acc: 0.75 \n",
      "Train loss: 0.08511199802160263, Train acc: 0.9725000262260437\n"
     ]
    }
   ],
   "source": [
    "evaluate(res_im)"
   ]
  },
  {
   "cell_type": "code",
   "execution_count": 10,
   "id": "aff330e4",
   "metadata": {},
   "outputs": [
    {
     "name": "stdout",
     "output_type": "stream",
     "text": [
      "INFO:tensorflow:Assets written to: D:\\Diss\\Weights\\RES\\Imbalanced\\res_im\\assets\n"
     ]
    },
    {
     "name": "stderr",
     "output_type": "stream",
     "text": [
      "C:\\Users\\Pete\\AppData\\Roaming\\Python\\Python38\\site-packages\\keras\\utils\\generic_utils.py:494: CustomMaskWarning: Custom mask layers require a config and must override get_config. When loading, the custom mask layer must be passed to the custom_objects argument.\n",
      "  warnings.warn('Custom mask layers require a config and must override '\n"
     ]
    }
   ],
   "source": [
    "res_im.save(r'D:\\Diss\\Weights\\RES\\Imbalanced\\res_im')"
   ]
  },
  {
   "cell_type": "code",
   "execution_count": 25,
   "id": "1293aea2",
   "metadata": {},
   "outputs": [],
   "source": [
    "Inc_im = tf.keras.models.load_model(r'D:\\Diss\\Weights\\INC\\Imbalanced\\inc_im')"
   ]
  },
  {
   "cell_type": "code",
   "execution_count": 11,
   "id": "33d5a1c8",
   "metadata": {},
   "outputs": [
    {
     "name": "stdout",
     "output_type": "stream",
     "text": [
      "Model: \"sequential_1\"\n",
      "_________________________________________________________________\n",
      "Layer (type)                 Output Shape              Param #   \n",
      "=================================================================\n",
      "inception_v3 (Functional)    (None, 6, 6, 2048)        21802784  \n",
      "_________________________________________________________________\n",
      "flatten_1 (Flatten)          (None, 73728)             0         \n",
      "_________________________________________________________________\n",
      "dense_2 (Dense)              (None, 512)               37749248  \n",
      "_________________________________________________________________\n",
      "dense_3 (Dense)              (None, 1)                 513       \n",
      "=================================================================\n",
      "Total params: 59,552,545\n",
      "Trainable params: 59,518,113\n",
      "Non-trainable params: 34,432\n",
      "_________________________________________________________________\n"
     ]
    }
   ],
   "source": [
    "model = tf.keras.applications.InceptionV3(input_shape = (256,256,3),include_top=False,weights=None)\n",
    "Inc_im = tf.keras.models.Sequential()\n",
    "Inc_im.add(model)\n",
    "Inc_im.add(layers.Flatten())\n",
    "Inc_im.add(layers.Dense(512,activation=\"relu\"))\n",
    "Inc_im.add(layers.Dense(1,activation=\"sigmoid\"))\n",
    "Inc_im.summary()\n",
    "\n",
    "Inc_im.compile(loss=\"binary_crossentropy\",\n",
    "             optimizer=optimizers.Adam(learning_rate=2e-5),\n",
    "             metrics=keras.metrics.BinaryAccuracy())"
   ]
  },
  {
   "cell_type": "code",
   "execution_count": 17,
   "id": "9c448d5f",
   "metadata": {},
   "outputs": [
    {
     "name": "stdout",
     "output_type": "stream",
     "text": [
      "Epoch 1/30\n",
      "30/30 [==============================] - 10s 330ms/step - loss: 0.1143 - binary_accuracy: 0.9783 - val_loss: 5.7484 - val_binary_accuracy: 0.5000\n",
      "Epoch 2/30\n",
      "30/30 [==============================] - 10s 326ms/step - loss: 0.7960 - binary_accuracy: 0.8717 - val_loss: 4.7612 - val_binary_accuracy: 0.5000\n",
      "Epoch 3/30\n",
      "30/30 [==============================] - 10s 334ms/step - loss: 0.2134 - binary_accuracy: 0.9533 - val_loss: 4.4556 - val_binary_accuracy: 0.5000\n",
      "Epoch 4/30\n",
      "30/30 [==============================] - 10s 331ms/step - loss: 0.0614 - binary_accuracy: 0.9783 - val_loss: 2.7515 - val_binary_accuracy: 0.5050\n",
      "Epoch 5/30\n",
      "30/30 [==============================] - 10s 332ms/step - loss: 0.0342 - binary_accuracy: 0.9867 - val_loss: 2.3891 - val_binary_accuracy: 0.5150\n",
      "Epoch 6/30\n",
      "30/30 [==============================] - 10s 330ms/step - loss: 0.0087 - binary_accuracy: 1.0000 - val_loss: 1.6803 - val_binary_accuracy: 0.5700\n",
      "Epoch 7/30\n",
      "30/30 [==============================] - 10s 330ms/step - loss: 0.0317 - binary_accuracy: 0.9883 - val_loss: 1.3762 - val_binary_accuracy: 0.6400\n",
      "Epoch 8/30\n",
      "30/30 [==============================] - 10s 330ms/step - loss: 0.0282 - binary_accuracy: 0.9883 - val_loss: 0.4404 - val_binary_accuracy: 0.8650\n",
      "Epoch 9/30\n",
      "30/30 [==============================] - 10s 329ms/step - loss: 0.0173 - binary_accuracy: 0.9933 - val_loss: 0.5275 - val_binary_accuracy: 0.8400\n",
      "Epoch 10/30\n",
      "30/30 [==============================] - 10s 334ms/step - loss: 0.0052 - binary_accuracy: 1.0000 - val_loss: 0.2926 - val_binary_accuracy: 0.8950\n",
      "Epoch 11/30\n",
      "30/30 [==============================] - 10s 338ms/step - loss: 0.0064 - binary_accuracy: 0.9983 - val_loss: 0.3045 - val_binary_accuracy: 0.8900\n",
      "Epoch 12/30\n",
      "30/30 [==============================] - 10s 327ms/step - loss: 0.0053 - binary_accuracy: 1.0000 - val_loss: 0.3467 - val_binary_accuracy: 0.8950\n",
      "Epoch 13/30\n",
      "30/30 [==============================] - 10s 331ms/step - loss: 0.0081 - binary_accuracy: 0.9983 - val_loss: 0.3071 - val_binary_accuracy: 0.9000\n",
      "Epoch 14/30\n",
      "30/30 [==============================] - 10s 328ms/step - loss: 0.0095 - binary_accuracy: 0.9950 - val_loss: 0.2927 - val_binary_accuracy: 0.9000\n",
      "Epoch 15/30\n",
      "30/30 [==============================] - 10s 336ms/step - loss: 0.0058 - binary_accuracy: 1.0000 - val_loss: 0.2899 - val_binary_accuracy: 0.9250\n",
      "Epoch 16/30\n",
      "30/30 [==============================] - 10s 338ms/step - loss: 0.0040 - binary_accuracy: 1.0000 - val_loss: 0.2500 - val_binary_accuracy: 0.9100\n",
      "Epoch 17/30\n",
      "30/30 [==============================] - 10s 329ms/step - loss: 0.0037 - binary_accuracy: 0.9983 - val_loss: 0.3579 - val_binary_accuracy: 0.8900\n",
      "Epoch 18/30\n",
      "30/30 [==============================] - 10s 328ms/step - loss: 0.0045 - binary_accuracy: 0.9983 - val_loss: 0.2662 - val_binary_accuracy: 0.8950\n",
      "Epoch 19/30\n",
      "30/30 [==============================] - 10s 335ms/step - loss: 0.0040 - binary_accuracy: 0.9983 - val_loss: 0.3944 - val_binary_accuracy: 0.8750\n",
      "Epoch 20/30\n",
      "30/30 [==============================] - 10s 328ms/step - loss: 0.0032 - binary_accuracy: 1.0000 - val_loss: 0.2517 - val_binary_accuracy: 0.9050\n",
      "Epoch 21/30\n",
      "30/30 [==============================] - 10s 334ms/step - loss: 0.0022 - binary_accuracy: 1.0000 - val_loss: 0.2834 - val_binary_accuracy: 0.9100\n",
      "Epoch 22/30\n",
      "30/30 [==============================] - 10s 334ms/step - loss: 0.0080 - binary_accuracy: 0.9967 - val_loss: 0.3302 - val_binary_accuracy: 0.9050\n",
      "Epoch 23/30\n",
      "30/30 [==============================] - 10s 337ms/step - loss: 0.0047 - binary_accuracy: 0.9983 - val_loss: 0.3258 - val_binary_accuracy: 0.9050\n",
      "Epoch 24/30\n",
      "30/30 [==============================] - 10s 327ms/step - loss: 0.0015 - binary_accuracy: 1.0000 - val_loss: 0.3287 - val_binary_accuracy: 0.9100\n",
      "Epoch 25/30\n",
      "30/30 [==============================] - 10s 334ms/step - loss: 0.0025 - binary_accuracy: 1.0000 - val_loss: 0.2788 - val_binary_accuracy: 0.9100\n",
      "Epoch 26/30\n",
      "30/30 [==============================] - 10s 329ms/step - loss: 0.0019 - binary_accuracy: 1.0000 - val_loss: 0.3054 - val_binary_accuracy: 0.9050\n",
      "Epoch 27/30\n",
      "30/30 [==============================] - 10s 332ms/step - loss: 0.0011 - binary_accuracy: 1.0000 - val_loss: 0.2758 - val_binary_accuracy: 0.9050\n",
      "Epoch 28/30\n",
      "30/30 [==============================] - 10s 331ms/step - loss: 0.0015 - binary_accuracy: 1.0000 - val_loss: 0.2896 - val_binary_accuracy: 0.9100\n",
      "Epoch 29/30\n",
      "30/30 [==============================] - 10s 334ms/step - loss: 6.5294e-04 - binary_accuracy: 1.0000 - val_loss: 0.2992 - val_binary_accuracy: 0.9050\n",
      "Epoch 30/30\n",
      "30/30 [==============================] - 10s 328ms/step - loss: 0.0031 - binary_accuracy: 0.9983 - val_loss: 0.2565 - val_binary_accuracy: 0.9100\n"
     ]
    },
    {
     "data": {
      "image/png": "[encoded data removed]",
      "text/plain": [
       "<Figure size 576x360 with 1 Axes>"
      ]
     },
     "metadata": {
      "needs_background": "light"
     },
     "output_type": "display_data"
    }
   ],
   "source": [
    "historyInc = Inc_im.fit(train_imbalanced_generator,\n",
    "                   steps_per_epoch=30,\n",
    "                   epochs=30,\n",
    "                   validation_data=validation_generator,\n",
    "                   validation_steps=10,\n",
    "                    callbacks=[res_early_stop])\n",
    "\n",
    "pd.DataFrame(historyInc.history).plot(figsize=(8,5))\n",
    "plt.grid(True)\n",
    "plt.gca().set_ylim(0,1)\n",
    "plt.show() "
   ]
  },
  {
   "cell_type": "code",
   "execution_count": 26,
   "id": "89303112",
   "metadata": {},
   "outputs": [
    {
     "name": "stdout",
     "output_type": "stream",
     "text": [
      "200/200 [==============================] - 7s 28ms/step - loss: 0.6778 - binary_accuracy: 0.8300\n",
      "40/40 [==============================] - 17s 413ms/step - loss: 0.0529 - binary_accuracy: 0.9862\n",
      "Test loss: 0.6778191328048706, Test acc: 0.8299999833106995 \n",
      "Train loss: 0.05286611244082451, Train acc: 0.9862499833106995\n"
     ]
    }
   ],
   "source": [
    "evaluate(Inc_im)"
   ]
  },
  {
   "cell_type": "code",
   "execution_count": 24,
   "id": "cced6a97",
   "metadata": {},
   "outputs": [
    {
     "name": "stdout",
     "output_type": "stream",
     "text": [
      "INFO:tensorflow:Assets written to: D:\\Diss\\Weights\\INC\\Imbalanced\\inc_im\\assets\n"
     ]
    }
   ],
   "source": [
    "Inc_im.save(r'D:\\Diss\\Weights\\INC\\Imbalanced\\inc_im')"
   ]
  }
 ],
 "metadata": {
  "kernelspec": {
   "display_name": "Python 3",
   "language": "python",
   "name": "python3"
  },
  "language_info": {
   "codemirror_mode": {
    "name": "ipython",
    "version": 3
   },
   "file_extension": ".py",
   "mimetype": "text/x-python",
   "name": "python",
   "nbconvert_exporter": "python",
   "pygments_lexer": "ipython3",
   "version": "3.8.8"
  }
 },
 "nbformat": 4,
 "nbformat_minor": 5
}
